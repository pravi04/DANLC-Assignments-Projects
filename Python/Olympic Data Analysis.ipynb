{
 "cells": [
  {
   "cell_type": "markdown",
   "metadata": {},
   "source": [
    "# Data includes record from 1896 - 2016 Olympic Games"
   ]
  },
  {
   "cell_type": "markdown",
   "metadata": {},
   "source": [
    "# Importing libraries\n",
    "- Pandas\n",
    "- Numpy\n",
    "- Matplotlib\n",
    "- Seaborn"
   ]
  },
  {
   "cell_type": "code",
   "execution_count": 4,
   "metadata": {},
   "outputs": [],
   "source": [
    "import pandas as pd\n",
    "import numpy as np\n",
    "import matplotlib.pyplot as plt\n",
    "import seaborn as sns"
   ]
  },
  {
   "cell_type": "markdown",
   "metadata": {},
   "source": [
    "# Loading Datasets"
   ]
  },
  {
   "cell_type": "code",
   "execution_count": 5,
   "metadata": {},
   "outputs": [],
   "source": [
    "athletes = pd.read_csv('athlete_events.csv')\n",
    "regions = pd.read_csv('noc_regions.csv')"
   ]
  },
  {
   "cell_type": "markdown",
   "metadata": {},
   "source": [
    "# Verifying the dataset"
   ]
  },
  {
   "cell_type": "code",
   "execution_count": 6,
   "metadata": {},
   "outputs": [
    {
     "data": {
      "text/html": [
       "<div>\n",
       "<style scoped>\n",
       "    .dataframe tbody tr th:only-of-type {\n",
       "        vertical-align: middle;\n",
       "    }\n",
       "\n",
       "    .dataframe tbody tr th {\n",
       "        vertical-align: top;\n",
       "    }\n",
       "\n",
       "    .dataframe thead th {\n",
       "        text-align: right;\n",
       "    }\n",
       "</style>\n",
       "<table border=\"1\" class=\"dataframe\">\n",
       "  <thead>\n",
       "    <tr style=\"text-align: right;\">\n",
       "      <th></th>\n",
       "      <th>ID</th>\n",
       "      <th>Name</th>\n",
       "      <th>Sex</th>\n",
       "      <th>Age</th>\n",
       "      <th>Height</th>\n",
       "      <th>Weight</th>\n",
       "      <th>Team</th>\n",
       "      <th>NOC</th>\n",
       "      <th>Games</th>\n",
       "      <th>Year</th>\n",
       "      <th>Season</th>\n",
       "      <th>City</th>\n",
       "      <th>Sport</th>\n",
       "      <th>Event</th>\n",
       "      <th>Medal</th>\n",
       "    </tr>\n",
       "  </thead>\n",
       "  <tbody>\n",
       "    <tr>\n",
       "      <th>0</th>\n",
       "      <td>1</td>\n",
       "      <td>A Dijiang</td>\n",
       "      <td>M</td>\n",
       "      <td>24.0</td>\n",
       "      <td>180.0</td>\n",
       "      <td>80.0</td>\n",
       "      <td>China</td>\n",
       "      <td>CHN</td>\n",
       "      <td>1992 Summer</td>\n",
       "      <td>1992</td>\n",
       "      <td>Summer</td>\n",
       "      <td>Barcelona</td>\n",
       "      <td>Basketball</td>\n",
       "      <td>Basketball Men's Basketball</td>\n",
       "      <td>NaN</td>\n",
       "    </tr>\n",
       "    <tr>\n",
       "      <th>1</th>\n",
       "      <td>2</td>\n",
       "      <td>A Lamusi</td>\n",
       "      <td>M</td>\n",
       "      <td>23.0</td>\n",
       "      <td>170.0</td>\n",
       "      <td>60.0</td>\n",
       "      <td>China</td>\n",
       "      <td>CHN</td>\n",
       "      <td>2012 Summer</td>\n",
       "      <td>2012</td>\n",
       "      <td>Summer</td>\n",
       "      <td>London</td>\n",
       "      <td>Judo</td>\n",
       "      <td>Judo Men's Extra-Lightweight</td>\n",
       "      <td>NaN</td>\n",
       "    </tr>\n",
       "    <tr>\n",
       "      <th>2</th>\n",
       "      <td>3</td>\n",
       "      <td>Gunnar Nielsen Aaby</td>\n",
       "      <td>M</td>\n",
       "      <td>24.0</td>\n",
       "      <td>NaN</td>\n",
       "      <td>NaN</td>\n",
       "      <td>Denmark</td>\n",
       "      <td>DEN</td>\n",
       "      <td>1920 Summer</td>\n",
       "      <td>1920</td>\n",
       "      <td>Summer</td>\n",
       "      <td>Antwerpen</td>\n",
       "      <td>Football</td>\n",
       "      <td>Football Men's Football</td>\n",
       "      <td>NaN</td>\n",
       "    </tr>\n",
       "    <tr>\n",
       "      <th>3</th>\n",
       "      <td>4</td>\n",
       "      <td>Edgar Lindenau Aabye</td>\n",
       "      <td>M</td>\n",
       "      <td>34.0</td>\n",
       "      <td>NaN</td>\n",
       "      <td>NaN</td>\n",
       "      <td>Denmark/Sweden</td>\n",
       "      <td>DEN</td>\n",
       "      <td>1900 Summer</td>\n",
       "      <td>1900</td>\n",
       "      <td>Summer</td>\n",
       "      <td>Paris</td>\n",
       "      <td>Tug-Of-War</td>\n",
       "      <td>Tug-Of-War Men's Tug-Of-War</td>\n",
       "      <td>Gold</td>\n",
       "    </tr>\n",
       "    <tr>\n",
       "      <th>4</th>\n",
       "      <td>5</td>\n",
       "      <td>Christine Jacoba Aaftink</td>\n",
       "      <td>F</td>\n",
       "      <td>21.0</td>\n",
       "      <td>185.0</td>\n",
       "      <td>82.0</td>\n",
       "      <td>Netherlands</td>\n",
       "      <td>NED</td>\n",
       "      <td>1988 Winter</td>\n",
       "      <td>1988</td>\n",
       "      <td>Winter</td>\n",
       "      <td>Calgary</td>\n",
       "      <td>Speed Skating</td>\n",
       "      <td>Speed Skating Women's 500 metres</td>\n",
       "      <td>NaN</td>\n",
       "    </tr>\n",
       "  </tbody>\n",
       "</table>\n",
       "</div>"
      ],
      "text/plain": [
       "   ID                      Name Sex   Age  Height  Weight            Team  \\\n",
       "0   1                 A Dijiang   M  24.0   180.0    80.0           China   \n",
       "1   2                  A Lamusi   M  23.0   170.0    60.0           China   \n",
       "2   3       Gunnar Nielsen Aaby   M  24.0     NaN     NaN         Denmark   \n",
       "3   4      Edgar Lindenau Aabye   M  34.0     NaN     NaN  Denmark/Sweden   \n",
       "4   5  Christine Jacoba Aaftink   F  21.0   185.0    82.0     Netherlands   \n",
       "\n",
       "   NOC        Games  Year  Season       City          Sport  \\\n",
       "0  CHN  1992 Summer  1992  Summer  Barcelona     Basketball   \n",
       "1  CHN  2012 Summer  2012  Summer     London           Judo   \n",
       "2  DEN  1920 Summer  1920  Summer  Antwerpen       Football   \n",
       "3  DEN  1900 Summer  1900  Summer      Paris     Tug-Of-War   \n",
       "4  NED  1988 Winter  1988  Winter    Calgary  Speed Skating   \n",
       "\n",
       "                              Event Medal  \n",
       "0       Basketball Men's Basketball   NaN  \n",
       "1      Judo Men's Extra-Lightweight   NaN  \n",
       "2           Football Men's Football   NaN  \n",
       "3       Tug-Of-War Men's Tug-Of-War  Gold  \n",
       "4  Speed Skating Women's 500 metres   NaN  "
      ]
     },
     "execution_count": 6,
     "metadata": {},
     "output_type": "execute_result"
    }
   ],
   "source": [
    "athletes.head()"
   ]
  },
  {
   "cell_type": "code",
   "execution_count": 7,
   "metadata": {},
   "outputs": [
    {
     "data": {
      "text/plain": [
       "(271116, 15)"
      ]
     },
     "execution_count": 7,
     "metadata": {},
     "output_type": "execute_result"
    }
   ],
   "source": [
    "athletes.shape"
   ]
  },
  {
   "cell_type": "code",
   "execution_count": 8,
   "metadata": {},
   "outputs": [
    {
     "data": {
      "text/html": [
       "<div>\n",
       "<style scoped>\n",
       "    .dataframe tbody tr th:only-of-type {\n",
       "        vertical-align: middle;\n",
       "    }\n",
       "\n",
       "    .dataframe tbody tr th {\n",
       "        vertical-align: top;\n",
       "    }\n",
       "\n",
       "    .dataframe thead th {\n",
       "        text-align: right;\n",
       "    }\n",
       "</style>\n",
       "<table border=\"1\" class=\"dataframe\">\n",
       "  <thead>\n",
       "    <tr style=\"text-align: right;\">\n",
       "      <th></th>\n",
       "      <th>NOC</th>\n",
       "      <th>region</th>\n",
       "      <th>notes</th>\n",
       "    </tr>\n",
       "  </thead>\n",
       "  <tbody>\n",
       "    <tr>\n",
       "      <th>0</th>\n",
       "      <td>AFG</td>\n",
       "      <td>Afghanistan</td>\n",
       "      <td>NaN</td>\n",
       "    </tr>\n",
       "    <tr>\n",
       "      <th>1</th>\n",
       "      <td>AHO</td>\n",
       "      <td>Curacao</td>\n",
       "      <td>Netherlands Antilles</td>\n",
       "    </tr>\n",
       "    <tr>\n",
       "      <th>2</th>\n",
       "      <td>ALB</td>\n",
       "      <td>Albania</td>\n",
       "      <td>NaN</td>\n",
       "    </tr>\n",
       "    <tr>\n",
       "      <th>3</th>\n",
       "      <td>ALG</td>\n",
       "      <td>Algeria</td>\n",
       "      <td>NaN</td>\n",
       "    </tr>\n",
       "    <tr>\n",
       "      <th>4</th>\n",
       "      <td>AND</td>\n",
       "      <td>Andorra</td>\n",
       "      <td>NaN</td>\n",
       "    </tr>\n",
       "  </tbody>\n",
       "</table>\n",
       "</div>"
      ],
      "text/plain": [
       "   NOC       region                 notes\n",
       "0  AFG  Afghanistan                   NaN\n",
       "1  AHO      Curacao  Netherlands Antilles\n",
       "2  ALB      Albania                   NaN\n",
       "3  ALG      Algeria                   NaN\n",
       "4  AND      Andorra                   NaN"
      ]
     },
     "execution_count": 8,
     "metadata": {},
     "output_type": "execute_result"
    }
   ],
   "source": [
    "regions.head()"
   ]
  },
  {
   "cell_type": "code",
   "execution_count": 9,
   "metadata": {},
   "outputs": [
    {
     "data": {
      "text/plain": [
       "(230, 3)"
      ]
     },
     "execution_count": 9,
     "metadata": {},
     "output_type": "execute_result"
    }
   ],
   "source": [
    "regions.shape"
   ]
  },
  {
   "cell_type": "markdown",
   "metadata": {},
   "source": [
    "# Joining datasets/dataframes\n",
    "To easily recognise the Country associated with a particular NOC (National Olympic Committee).\n",
    "Using Left join"
   ]
  },
  {
   "cell_type": "code",
   "execution_count": 10,
   "metadata": {
    "scrolled": true
   },
   "outputs": [
    {
     "data": {
      "text/html": [
       "<div>\n",
       "<style scoped>\n",
       "    .dataframe tbody tr th:only-of-type {\n",
       "        vertical-align: middle;\n",
       "    }\n",
       "\n",
       "    .dataframe tbody tr th {\n",
       "        vertical-align: top;\n",
       "    }\n",
       "\n",
       "    .dataframe thead th {\n",
       "        text-align: right;\n",
       "    }\n",
       "</style>\n",
       "<table border=\"1\" class=\"dataframe\">\n",
       "  <thead>\n",
       "    <tr style=\"text-align: right;\">\n",
       "      <th></th>\n",
       "      <th>ID</th>\n",
       "      <th>Name</th>\n",
       "      <th>Sex</th>\n",
       "      <th>Age</th>\n",
       "      <th>Height</th>\n",
       "      <th>Weight</th>\n",
       "      <th>Team</th>\n",
       "      <th>NOC</th>\n",
       "      <th>Games</th>\n",
       "      <th>Year</th>\n",
       "      <th>Season</th>\n",
       "      <th>City</th>\n",
       "      <th>Sport</th>\n",
       "      <th>Event</th>\n",
       "      <th>Medal</th>\n",
       "      <th>region</th>\n",
       "      <th>notes</th>\n",
       "    </tr>\n",
       "  </thead>\n",
       "  <tbody>\n",
       "    <tr>\n",
       "      <th>0</th>\n",
       "      <td>1</td>\n",
       "      <td>A Dijiang</td>\n",
       "      <td>M</td>\n",
       "      <td>24.0</td>\n",
       "      <td>180.0</td>\n",
       "      <td>80.0</td>\n",
       "      <td>China</td>\n",
       "      <td>CHN</td>\n",
       "      <td>1992 Summer</td>\n",
       "      <td>1992</td>\n",
       "      <td>Summer</td>\n",
       "      <td>Barcelona</td>\n",
       "      <td>Basketball</td>\n",
       "      <td>Basketball Men's Basketball</td>\n",
       "      <td>NaN</td>\n",
       "      <td>China</td>\n",
       "      <td>NaN</td>\n",
       "    </tr>\n",
       "    <tr>\n",
       "      <th>1</th>\n",
       "      <td>2</td>\n",
       "      <td>A Lamusi</td>\n",
       "      <td>M</td>\n",
       "      <td>23.0</td>\n",
       "      <td>170.0</td>\n",
       "      <td>60.0</td>\n",
       "      <td>China</td>\n",
       "      <td>CHN</td>\n",
       "      <td>2012 Summer</td>\n",
       "      <td>2012</td>\n",
       "      <td>Summer</td>\n",
       "      <td>London</td>\n",
       "      <td>Judo</td>\n",
       "      <td>Judo Men's Extra-Lightweight</td>\n",
       "      <td>NaN</td>\n",
       "      <td>China</td>\n",
       "      <td>NaN</td>\n",
       "    </tr>\n",
       "    <tr>\n",
       "      <th>2</th>\n",
       "      <td>3</td>\n",
       "      <td>Gunnar Nielsen Aaby</td>\n",
       "      <td>M</td>\n",
       "      <td>24.0</td>\n",
       "      <td>NaN</td>\n",
       "      <td>NaN</td>\n",
       "      <td>Denmark</td>\n",
       "      <td>DEN</td>\n",
       "      <td>1920 Summer</td>\n",
       "      <td>1920</td>\n",
       "      <td>Summer</td>\n",
       "      <td>Antwerpen</td>\n",
       "      <td>Football</td>\n",
       "      <td>Football Men's Football</td>\n",
       "      <td>NaN</td>\n",
       "      <td>Denmark</td>\n",
       "      <td>NaN</td>\n",
       "    </tr>\n",
       "    <tr>\n",
       "      <th>3</th>\n",
       "      <td>4</td>\n",
       "      <td>Edgar Lindenau Aabye</td>\n",
       "      <td>M</td>\n",
       "      <td>34.0</td>\n",
       "      <td>NaN</td>\n",
       "      <td>NaN</td>\n",
       "      <td>Denmark/Sweden</td>\n",
       "      <td>DEN</td>\n",
       "      <td>1900 Summer</td>\n",
       "      <td>1900</td>\n",
       "      <td>Summer</td>\n",
       "      <td>Paris</td>\n",
       "      <td>Tug-Of-War</td>\n",
       "      <td>Tug-Of-War Men's Tug-Of-War</td>\n",
       "      <td>Gold</td>\n",
       "      <td>Denmark</td>\n",
       "      <td>NaN</td>\n",
       "    </tr>\n",
       "    <tr>\n",
       "      <th>4</th>\n",
       "      <td>5</td>\n",
       "      <td>Christine Jacoba Aaftink</td>\n",
       "      <td>F</td>\n",
       "      <td>21.0</td>\n",
       "      <td>185.0</td>\n",
       "      <td>82.0</td>\n",
       "      <td>Netherlands</td>\n",
       "      <td>NED</td>\n",
       "      <td>1988 Winter</td>\n",
       "      <td>1988</td>\n",
       "      <td>Winter</td>\n",
       "      <td>Calgary</td>\n",
       "      <td>Speed Skating</td>\n",
       "      <td>Speed Skating Women's 500 metres</td>\n",
       "      <td>NaN</td>\n",
       "      <td>Netherlands</td>\n",
       "      <td>NaN</td>\n",
       "    </tr>\n",
       "  </tbody>\n",
       "</table>\n",
       "</div>"
      ],
      "text/plain": [
       "   ID                      Name Sex   Age  Height  Weight            Team  \\\n",
       "0   1                 A Dijiang   M  24.0   180.0    80.0           China   \n",
       "1   2                  A Lamusi   M  23.0   170.0    60.0           China   \n",
       "2   3       Gunnar Nielsen Aaby   M  24.0     NaN     NaN         Denmark   \n",
       "3   4      Edgar Lindenau Aabye   M  34.0     NaN     NaN  Denmark/Sweden   \n",
       "4   5  Christine Jacoba Aaftink   F  21.0   185.0    82.0     Netherlands   \n",
       "\n",
       "   NOC        Games  Year  Season       City          Sport  \\\n",
       "0  CHN  1992 Summer  1992  Summer  Barcelona     Basketball   \n",
       "1  CHN  2012 Summer  2012  Summer     London           Judo   \n",
       "2  DEN  1920 Summer  1920  Summer  Antwerpen       Football   \n",
       "3  DEN  1900 Summer  1900  Summer      Paris     Tug-Of-War   \n",
       "4  NED  1988 Winter  1988  Winter    Calgary  Speed Skating   \n",
       "\n",
       "                              Event Medal       region notes  \n",
       "0       Basketball Men's Basketball   NaN        China   NaN  \n",
       "1      Judo Men's Extra-Lightweight   NaN        China   NaN  \n",
       "2           Football Men's Football   NaN      Denmark   NaN  \n",
       "3       Tug-Of-War Men's Tug-Of-War  Gold      Denmark   NaN  \n",
       "4  Speed Skating Women's 500 metres   NaN  Netherlands   NaN  "
      ]
     },
     "execution_count": 10,
     "metadata": {},
     "output_type": "execute_result"
    }
   ],
   "source": [
    "athletes_df = athletes.merge(regions, how = 'left', on = 'NOC')\n",
    "athletes_df.head()"
   ]
  },
  {
   "cell_type": "code",
   "execution_count": 11,
   "metadata": {},
   "outputs": [
    {
     "data": {
      "text/plain": [
       "(271116, 17)"
      ]
     },
     "execution_count": 11,
     "metadata": {},
     "output_type": "execute_result"
    }
   ],
   "source": [
    "athletes_df.shape"
   ]
  },
  {
   "cell_type": "markdown",
   "metadata": {},
   "source": [
    "# Making column consistent"
   ]
  },
  {
   "cell_type": "code",
   "execution_count": 12,
   "metadata": {},
   "outputs": [
    {
     "data": {
      "text/html": [
       "<div>\n",
       "<style scoped>\n",
       "    .dataframe tbody tr th:only-of-type {\n",
       "        vertical-align: middle;\n",
       "    }\n",
       "\n",
       "    .dataframe tbody tr th {\n",
       "        vertical-align: top;\n",
       "    }\n",
       "\n",
       "    .dataframe thead th {\n",
       "        text-align: right;\n",
       "    }\n",
       "</style>\n",
       "<table border=\"1\" class=\"dataframe\">\n",
       "  <thead>\n",
       "    <tr style=\"text-align: right;\">\n",
       "      <th></th>\n",
       "      <th>ID</th>\n",
       "      <th>Name</th>\n",
       "      <th>Sex</th>\n",
       "      <th>Age</th>\n",
       "      <th>Height</th>\n",
       "      <th>Weight</th>\n",
       "      <th>Team</th>\n",
       "      <th>NOC</th>\n",
       "      <th>Games</th>\n",
       "      <th>Year</th>\n",
       "      <th>Season</th>\n",
       "      <th>City</th>\n",
       "      <th>Sport</th>\n",
       "      <th>Event</th>\n",
       "      <th>Medal</th>\n",
       "      <th>Region</th>\n",
       "      <th>Notes</th>\n",
       "    </tr>\n",
       "  </thead>\n",
       "  <tbody>\n",
       "    <tr>\n",
       "      <th>0</th>\n",
       "      <td>1</td>\n",
       "      <td>A Dijiang</td>\n",
       "      <td>M</td>\n",
       "      <td>24.0</td>\n",
       "      <td>180.0</td>\n",
       "      <td>80.0</td>\n",
       "      <td>China</td>\n",
       "      <td>CHN</td>\n",
       "      <td>1992 Summer</td>\n",
       "      <td>1992</td>\n",
       "      <td>Summer</td>\n",
       "      <td>Barcelona</td>\n",
       "      <td>Basketball</td>\n",
       "      <td>Basketball Men's Basketball</td>\n",
       "      <td>NaN</td>\n",
       "      <td>China</td>\n",
       "      <td>NaN</td>\n",
       "    </tr>\n",
       "    <tr>\n",
       "      <th>1</th>\n",
       "      <td>2</td>\n",
       "      <td>A Lamusi</td>\n",
       "      <td>M</td>\n",
       "      <td>23.0</td>\n",
       "      <td>170.0</td>\n",
       "      <td>60.0</td>\n",
       "      <td>China</td>\n",
       "      <td>CHN</td>\n",
       "      <td>2012 Summer</td>\n",
       "      <td>2012</td>\n",
       "      <td>Summer</td>\n",
       "      <td>London</td>\n",
       "      <td>Judo</td>\n",
       "      <td>Judo Men's Extra-Lightweight</td>\n",
       "      <td>NaN</td>\n",
       "      <td>China</td>\n",
       "      <td>NaN</td>\n",
       "    </tr>\n",
       "    <tr>\n",
       "      <th>2</th>\n",
       "      <td>3</td>\n",
       "      <td>Gunnar Nielsen Aaby</td>\n",
       "      <td>M</td>\n",
       "      <td>24.0</td>\n",
       "      <td>NaN</td>\n",
       "      <td>NaN</td>\n",
       "      <td>Denmark</td>\n",
       "      <td>DEN</td>\n",
       "      <td>1920 Summer</td>\n",
       "      <td>1920</td>\n",
       "      <td>Summer</td>\n",
       "      <td>Antwerpen</td>\n",
       "      <td>Football</td>\n",
       "      <td>Football Men's Football</td>\n",
       "      <td>NaN</td>\n",
       "      <td>Denmark</td>\n",
       "      <td>NaN</td>\n",
       "    </tr>\n",
       "    <tr>\n",
       "      <th>3</th>\n",
       "      <td>4</td>\n",
       "      <td>Edgar Lindenau Aabye</td>\n",
       "      <td>M</td>\n",
       "      <td>34.0</td>\n",
       "      <td>NaN</td>\n",
       "      <td>NaN</td>\n",
       "      <td>Denmark/Sweden</td>\n",
       "      <td>DEN</td>\n",
       "      <td>1900 Summer</td>\n",
       "      <td>1900</td>\n",
       "      <td>Summer</td>\n",
       "      <td>Paris</td>\n",
       "      <td>Tug-Of-War</td>\n",
       "      <td>Tug-Of-War Men's Tug-Of-War</td>\n",
       "      <td>Gold</td>\n",
       "      <td>Denmark</td>\n",
       "      <td>NaN</td>\n",
       "    </tr>\n",
       "    <tr>\n",
       "      <th>4</th>\n",
       "      <td>5</td>\n",
       "      <td>Christine Jacoba Aaftink</td>\n",
       "      <td>F</td>\n",
       "      <td>21.0</td>\n",
       "      <td>185.0</td>\n",
       "      <td>82.0</td>\n",
       "      <td>Netherlands</td>\n",
       "      <td>NED</td>\n",
       "      <td>1988 Winter</td>\n",
       "      <td>1988</td>\n",
       "      <td>Winter</td>\n",
       "      <td>Calgary</td>\n",
       "      <td>Speed Skating</td>\n",
       "      <td>Speed Skating Women's 500 metres</td>\n",
       "      <td>NaN</td>\n",
       "      <td>Netherlands</td>\n",
       "      <td>NaN</td>\n",
       "    </tr>\n",
       "  </tbody>\n",
       "</table>\n",
       "</div>"
      ],
      "text/plain": [
       "   ID                      Name Sex   Age  Height  Weight            Team  \\\n",
       "0   1                 A Dijiang   M  24.0   180.0    80.0           China   \n",
       "1   2                  A Lamusi   M  23.0   170.0    60.0           China   \n",
       "2   3       Gunnar Nielsen Aaby   M  24.0     NaN     NaN         Denmark   \n",
       "3   4      Edgar Lindenau Aabye   M  34.0     NaN     NaN  Denmark/Sweden   \n",
       "4   5  Christine Jacoba Aaftink   F  21.0   185.0    82.0     Netherlands   \n",
       "\n",
       "   NOC        Games  Year  Season       City          Sport  \\\n",
       "0  CHN  1992 Summer  1992  Summer  Barcelona     Basketball   \n",
       "1  CHN  2012 Summer  2012  Summer     London           Judo   \n",
       "2  DEN  1920 Summer  1920  Summer  Antwerpen       Football   \n",
       "3  DEN  1900 Summer  1900  Summer      Paris     Tug-Of-War   \n",
       "4  NED  1988 Winter  1988  Winter    Calgary  Speed Skating   \n",
       "\n",
       "                              Event Medal       Region Notes  \n",
       "0       Basketball Men's Basketball   NaN        China   NaN  \n",
       "1      Judo Men's Extra-Lightweight   NaN        China   NaN  \n",
       "2           Football Men's Football   NaN      Denmark   NaN  \n",
       "3       Tug-Of-War Men's Tug-Of-War  Gold      Denmark   NaN  \n",
       "4  Speed Skating Women's 500 metres   NaN  Netherlands   NaN  "
      ]
     },
     "execution_count": 12,
     "metadata": {},
     "output_type": "execute_result"
    }
   ],
   "source": [
    "athletes_df = athletes_df.rename(columns={'region': 'Region', 'notes': 'Notes'})\n",
    "athletes_df.head()"
   ]
  },
  {
   "cell_type": "code",
   "execution_count": 13,
   "metadata": {},
   "outputs": [
    {
     "name": "stdout",
     "output_type": "stream",
     "text": [
      "<class 'pandas.core.frame.DataFrame'>\n",
      "Int64Index: 271116 entries, 0 to 271115\n",
      "Data columns (total 17 columns):\n",
      " #   Column  Non-Null Count   Dtype  \n",
      "---  ------  --------------   -----  \n",
      " 0   ID      271116 non-null  int64  \n",
      " 1   Name    271116 non-null  object \n",
      " 2   Sex     271116 non-null  object \n",
      " 3   Age     261642 non-null  float64\n",
      " 4   Height  210945 non-null  float64\n",
      " 5   Weight  208241 non-null  float64\n",
      " 6   Team    271116 non-null  object \n",
      " 7   NOC     271116 non-null  object \n",
      " 8   Games   271116 non-null  object \n",
      " 9   Year    271116 non-null  int64  \n",
      " 10  Season  271116 non-null  object \n",
      " 11  City    271116 non-null  object \n",
      " 12  Sport   271116 non-null  object \n",
      " 13  Event   271116 non-null  object \n",
      " 14  Medal   39783 non-null   object \n",
      " 15  Region  270746 non-null  object \n",
      " 16  Notes   5039 non-null    object \n",
      "dtypes: float64(3), int64(2), object(12)\n",
      "memory usage: 37.2+ MB\n"
     ]
    }
   ],
   "source": [
    "athletes_df.info()"
   ]
  },
  {
   "cell_type": "code",
   "execution_count": 14,
   "metadata": {},
   "outputs": [
    {
     "data": {
      "text/html": [
       "<div>\n",
       "<style scoped>\n",
       "    .dataframe tbody tr th:only-of-type {\n",
       "        vertical-align: middle;\n",
       "    }\n",
       "\n",
       "    .dataframe tbody tr th {\n",
       "        vertical-align: top;\n",
       "    }\n",
       "\n",
       "    .dataframe thead th {\n",
       "        text-align: right;\n",
       "    }\n",
       "</style>\n",
       "<table border=\"1\" class=\"dataframe\">\n",
       "  <thead>\n",
       "    <tr style=\"text-align: right;\">\n",
       "      <th></th>\n",
       "      <th>ID</th>\n",
       "      <th>Age</th>\n",
       "      <th>Height</th>\n",
       "      <th>Weight</th>\n",
       "      <th>Year</th>\n",
       "    </tr>\n",
       "  </thead>\n",
       "  <tbody>\n",
       "    <tr>\n",
       "      <th>count</th>\n",
       "      <td>271116.000000</td>\n",
       "      <td>261642.000000</td>\n",
       "      <td>210945.000000</td>\n",
       "      <td>208241.000000</td>\n",
       "      <td>271116.000000</td>\n",
       "    </tr>\n",
       "    <tr>\n",
       "      <th>mean</th>\n",
       "      <td>68248.954396</td>\n",
       "      <td>25.556898</td>\n",
       "      <td>175.338970</td>\n",
       "      <td>70.702393</td>\n",
       "      <td>1978.378480</td>\n",
       "    </tr>\n",
       "    <tr>\n",
       "      <th>std</th>\n",
       "      <td>39022.286345</td>\n",
       "      <td>6.393561</td>\n",
       "      <td>10.518462</td>\n",
       "      <td>14.348020</td>\n",
       "      <td>29.877632</td>\n",
       "    </tr>\n",
       "    <tr>\n",
       "      <th>min</th>\n",
       "      <td>1.000000</td>\n",
       "      <td>10.000000</td>\n",
       "      <td>127.000000</td>\n",
       "      <td>25.000000</td>\n",
       "      <td>1896.000000</td>\n",
       "    </tr>\n",
       "    <tr>\n",
       "      <th>25%</th>\n",
       "      <td>34643.000000</td>\n",
       "      <td>21.000000</td>\n",
       "      <td>168.000000</td>\n",
       "      <td>60.000000</td>\n",
       "      <td>1960.000000</td>\n",
       "    </tr>\n",
       "    <tr>\n",
       "      <th>50%</th>\n",
       "      <td>68205.000000</td>\n",
       "      <td>24.000000</td>\n",
       "      <td>175.000000</td>\n",
       "      <td>70.000000</td>\n",
       "      <td>1988.000000</td>\n",
       "    </tr>\n",
       "    <tr>\n",
       "      <th>75%</th>\n",
       "      <td>102097.250000</td>\n",
       "      <td>28.000000</td>\n",
       "      <td>183.000000</td>\n",
       "      <td>79.000000</td>\n",
       "      <td>2002.000000</td>\n",
       "    </tr>\n",
       "    <tr>\n",
       "      <th>max</th>\n",
       "      <td>135571.000000</td>\n",
       "      <td>97.000000</td>\n",
       "      <td>226.000000</td>\n",
       "      <td>214.000000</td>\n",
       "      <td>2016.000000</td>\n",
       "    </tr>\n",
       "  </tbody>\n",
       "</table>\n",
       "</div>"
      ],
      "text/plain": [
       "                  ID            Age         Height         Weight  \\\n",
       "count  271116.000000  261642.000000  210945.000000  208241.000000   \n",
       "mean    68248.954396      25.556898     175.338970      70.702393   \n",
       "std     39022.286345       6.393561      10.518462      14.348020   \n",
       "min         1.000000      10.000000     127.000000      25.000000   \n",
       "25%     34643.000000      21.000000     168.000000      60.000000   \n",
       "50%     68205.000000      24.000000     175.000000      70.000000   \n",
       "75%    102097.250000      28.000000     183.000000      79.000000   \n",
       "max    135571.000000      97.000000     226.000000     214.000000   \n",
       "\n",
       "                Year  \n",
       "count  271116.000000  \n",
       "mean     1978.378480  \n",
       "std        29.877632  \n",
       "min      1896.000000  \n",
       "25%      1960.000000  \n",
       "50%      1988.000000  \n",
       "75%      2002.000000  \n",
       "max      2016.000000  "
      ]
     },
     "execution_count": 14,
     "metadata": {},
     "output_type": "execute_result"
    }
   ],
   "source": [
    "athletes_df.describe()"
   ]
  },
  {
   "cell_type": "markdown",
   "metadata": {},
   "source": [
    "Through this data we can observe the youngest & eldest player participated since 1896 in the Olympic Games.  \n",
    "As well as the lightest & heaviest player."
   ]
  },
  {
   "cell_type": "code",
   "execution_count": 15,
   "metadata": {},
   "outputs": [
    {
     "name": "stdout",
     "output_type": "stream",
     "text": [
      "ID        False\n",
      "Name      False\n",
      "Sex       False\n",
      "Age        True\n",
      "Height     True\n",
      "Weight     True\n",
      "Team      False\n",
      "NOC       False\n",
      "Games     False\n",
      "Year      False\n",
      "Season    False\n",
      "City      False\n",
      "Sport     False\n",
      "Event     False\n",
      "Medal      True\n",
      "Region     True\n",
      "Notes      True\n",
      "dtype: bool\n"
     ]
    }
   ],
   "source": [
    "nan_values = athletes_df.isna()\n",
    "nan_columns = nan_values.any()\n",
    "print(nan_columns)"
   ]
  },
  {
   "cell_type": "code",
   "execution_count": 16,
   "metadata": {},
   "outputs": [
    {
     "data": {
      "text/plain": [
       "ID             0\n",
       "Name           0\n",
       "Sex            0\n",
       "Age         9474\n",
       "Height     60171\n",
       "Weight     62875\n",
       "Team           0\n",
       "NOC            0\n",
       "Games          0\n",
       "Year           0\n",
       "Season         0\n",
       "City           0\n",
       "Sport          0\n",
       "Event          0\n",
       "Medal     231333\n",
       "Region       370\n",
       "Notes     266077\n",
       "dtype: int64"
      ]
     },
     "execution_count": 16,
     "metadata": {},
     "output_type": "execute_result"
    }
   ],
   "source": [
    "athletes_df.isnull().sum()"
   ]
  },
  {
   "cell_type": "markdown",
   "metadata": {},
   "source": [
    "Count of missing/NULL values in each column"
   ]
  },
  {
   "cell_type": "code",
   "execution_count": 17,
   "metadata": {},
   "outputs": [
    {
     "data": {
      "text/plain": [
       "['Age', 'Height', 'Weight', 'Medal', 'Region', 'Notes']"
      ]
     },
     "execution_count": 17,
     "metadata": {},
     "output_type": "execute_result"
    }
   ],
   "source": [
    "athletes_list=athletes_df.columns[athletes_df.isnull().any()].tolist()\n",
    "athletes_list"
   ]
  },
  {
   "cell_type": "code",
   "execution_count": 32,
   "metadata": {},
   "outputs": [
    {
     "name": "stdout",
     "output_type": "stream",
     "text": [
      "Number of duplicate rows: 1385\n"
     ]
    }
   ],
   "source": [
    "# Count duplicate rows\n",
    "num_duplicates = athletes_df.duplicated().sum()\n",
    "print(f\"Number of duplicate rows: {num_duplicates}\")"
   ]
  },
  {
   "cell_type": "code",
   "execution_count": 33,
   "metadata": {},
   "outputs": [],
   "source": [
    "# Remove duplicate rows\n",
    "athletes_df = athletes_df.drop_duplicates()"
   ]
  },
  {
   "cell_type": "markdown",
   "metadata": {},
   "source": [
    "# EDA - Exploratory Data Analysis"
   ]
  },
  {
   "cell_type": "code",
   "execution_count": 34,
   "metadata": {},
   "outputs": [
    {
     "data": {
      "text/html": [
       "<div>\n",
       "<style scoped>\n",
       "    .dataframe tbody tr th:only-of-type {\n",
       "        vertical-align: middle;\n",
       "    }\n",
       "\n",
       "    .dataframe tbody tr th {\n",
       "        vertical-align: top;\n",
       "    }\n",
       "\n",
       "    .dataframe thead th {\n",
       "        text-align: right;\n",
       "    }\n",
       "</style>\n",
       "<table border=\"1\" class=\"dataframe\">\n",
       "  <thead>\n",
       "    <tr style=\"text-align: right;\">\n",
       "      <th></th>\n",
       "      <th>ID</th>\n",
       "      <th>Name</th>\n",
       "      <th>Sex</th>\n",
       "      <th>Age</th>\n",
       "      <th>Height</th>\n",
       "      <th>Weight</th>\n",
       "      <th>Team</th>\n",
       "      <th>NOC</th>\n",
       "      <th>Games</th>\n",
       "      <th>Year</th>\n",
       "      <th>Season</th>\n",
       "      <th>City</th>\n",
       "      <th>Sport</th>\n",
       "      <th>Event</th>\n",
       "      <th>Medal</th>\n",
       "      <th>Region</th>\n",
       "      <th>Notes</th>\n",
       "    </tr>\n",
       "  </thead>\n",
       "  <tbody>\n",
       "    <tr>\n",
       "      <th>193366</th>\n",
       "      <td>97066</td>\n",
       "      <td>Norman Gilbert Pritchard (-Trevor)</td>\n",
       "      <td>M</td>\n",
       "      <td>24.0</td>\n",
       "      <td>NaN</td>\n",
       "      <td>NaN</td>\n",
       "      <td>India</td>\n",
       "      <td>IND</td>\n",
       "      <td>1900 Summer</td>\n",
       "      <td>1900</td>\n",
       "      <td>Summer</td>\n",
       "      <td>Paris</td>\n",
       "      <td>Athletics</td>\n",
       "      <td>Athletics Men's 200 metres</td>\n",
       "      <td>Silver</td>\n",
       "      <td>India</td>\n",
       "      <td>NaN</td>\n",
       "    </tr>\n",
       "    <tr>\n",
       "      <th>193368</th>\n",
       "      <td>97066</td>\n",
       "      <td>Norman Gilbert Pritchard (-Trevor)</td>\n",
       "      <td>M</td>\n",
       "      <td>24.0</td>\n",
       "      <td>NaN</td>\n",
       "      <td>NaN</td>\n",
       "      <td>India</td>\n",
       "      <td>IND</td>\n",
       "      <td>1900 Summer</td>\n",
       "      <td>1900</td>\n",
       "      <td>Summer</td>\n",
       "      <td>Paris</td>\n",
       "      <td>Athletics</td>\n",
       "      <td>Athletics Men's 200 metres Hurdles</td>\n",
       "      <td>Silver</td>\n",
       "      <td>India</td>\n",
       "      <td>NaN</td>\n",
       "    </tr>\n",
       "    <tr>\n",
       "      <th>193365</th>\n",
       "      <td>97066</td>\n",
       "      <td>Norman Gilbert Pritchard (-Trevor)</td>\n",
       "      <td>M</td>\n",
       "      <td>24.0</td>\n",
       "      <td>NaN</td>\n",
       "      <td>NaN</td>\n",
       "      <td>India</td>\n",
       "      <td>IND</td>\n",
       "      <td>1900 Summer</td>\n",
       "      <td>1900</td>\n",
       "      <td>Summer</td>\n",
       "      <td>Paris</td>\n",
       "      <td>Athletics</td>\n",
       "      <td>Athletics Men's 100 metres</td>\n",
       "      <td>NaN</td>\n",
       "      <td>India</td>\n",
       "      <td>NaN</td>\n",
       "    </tr>\n",
       "    <tr>\n",
       "      <th>193364</th>\n",
       "      <td>97066</td>\n",
       "      <td>Norman Gilbert Pritchard (-Trevor)</td>\n",
       "      <td>M</td>\n",
       "      <td>24.0</td>\n",
       "      <td>NaN</td>\n",
       "      <td>NaN</td>\n",
       "      <td>India</td>\n",
       "      <td>IND</td>\n",
       "      <td>1900 Summer</td>\n",
       "      <td>1900</td>\n",
       "      <td>Summer</td>\n",
       "      <td>Paris</td>\n",
       "      <td>Athletics</td>\n",
       "      <td>Athletics Men's 60 metres</td>\n",
       "      <td>NaN</td>\n",
       "      <td>India</td>\n",
       "      <td>NaN</td>\n",
       "    </tr>\n",
       "    <tr>\n",
       "      <th>193367</th>\n",
       "      <td>97066</td>\n",
       "      <td>Norman Gilbert Pritchard (-Trevor)</td>\n",
       "      <td>M</td>\n",
       "      <td>24.0</td>\n",
       "      <td>NaN</td>\n",
       "      <td>NaN</td>\n",
       "      <td>India</td>\n",
       "      <td>IND</td>\n",
       "      <td>1900 Summer</td>\n",
       "      <td>1900</td>\n",
       "      <td>Summer</td>\n",
       "      <td>Paris</td>\n",
       "      <td>Athletics</td>\n",
       "      <td>Athletics Men's 110 metres Hurdles</td>\n",
       "      <td>NaN</td>\n",
       "      <td>India</td>\n",
       "      <td>NaN</td>\n",
       "    </tr>\n",
       "  </tbody>\n",
       "</table>\n",
       "</div>"
      ],
      "text/plain": [
       "           ID                                Name Sex   Age  Height  Weight  \\\n",
       "193366  97066  Norman Gilbert Pritchard (-Trevor)   M  24.0     NaN     NaN   \n",
       "193368  97066  Norman Gilbert Pritchard (-Trevor)   M  24.0     NaN     NaN   \n",
       "193365  97066  Norman Gilbert Pritchard (-Trevor)   M  24.0     NaN     NaN   \n",
       "193364  97066  Norman Gilbert Pritchard (-Trevor)   M  24.0     NaN     NaN   \n",
       "193367  97066  Norman Gilbert Pritchard (-Trevor)   M  24.0     NaN     NaN   \n",
       "\n",
       "         Team  NOC        Games  Year  Season   City      Sport  \\\n",
       "193366  India  IND  1900 Summer  1900  Summer  Paris  Athletics   \n",
       "193368  India  IND  1900 Summer  1900  Summer  Paris  Athletics   \n",
       "193365  India  IND  1900 Summer  1900  Summer  Paris  Athletics   \n",
       "193364  India  IND  1900 Summer  1900  Summer  Paris  Athletics   \n",
       "193367  India  IND  1900 Summer  1900  Summer  Paris  Athletics   \n",
       "\n",
       "                                     Event   Medal Region Notes  \n",
       "193366          Athletics Men's 200 metres  Silver  India   NaN  \n",
       "193368  Athletics Men's 200 metres Hurdles  Silver  India   NaN  \n",
       "193365          Athletics Men's 100 metres     NaN  India   NaN  \n",
       "193364           Athletics Men's 60 metres     NaN  India   NaN  \n",
       "193367  Athletics Men's 110 metres Hurdles     NaN  India   NaN  "
      ]
     },
     "execution_count": 34,
     "metadata": {},
     "output_type": "execute_result"
    }
   ],
   "source": [
    "athletes_df.query('Team == \"India\"').sort_values(by='Year').head()"
   ]
  },
  {
   "cell_type": "markdown",
   "metadata": {},
   "source": [
    "- First 5 Indian athletes to participate in Olympic games"
   ]
  },
  {
   "cell_type": "code",
   "execution_count": 35,
   "metadata": {},
   "outputs": [
    {
     "data": {
      "text/html": [
       "<div>\n",
       "<style scoped>\n",
       "    .dataframe tbody tr th:only-of-type {\n",
       "        vertical-align: middle;\n",
       "    }\n",
       "\n",
       "    .dataframe tbody tr th {\n",
       "        vertical-align: top;\n",
       "    }\n",
       "\n",
       "    .dataframe thead th {\n",
       "        text-align: right;\n",
       "    }\n",
       "</style>\n",
       "<table border=\"1\" class=\"dataframe\">\n",
       "  <thead>\n",
       "    <tr style=\"text-align: right;\">\n",
       "      <th></th>\n",
       "      <th>ID</th>\n",
       "      <th>Name</th>\n",
       "      <th>Sex</th>\n",
       "      <th>Age</th>\n",
       "      <th>Height</th>\n",
       "      <th>Weight</th>\n",
       "      <th>Team</th>\n",
       "      <th>NOC</th>\n",
       "      <th>Games</th>\n",
       "      <th>Year</th>\n",
       "      <th>Season</th>\n",
       "      <th>City</th>\n",
       "      <th>Sport</th>\n",
       "      <th>Event</th>\n",
       "      <th>Medal</th>\n",
       "      <th>Region</th>\n",
       "      <th>Notes</th>\n",
       "    </tr>\n",
       "  </thead>\n",
       "  <tbody>\n",
       "    <tr>\n",
       "      <th>147806</th>\n",
       "      <td>74168</td>\n",
       "      <td>Ioannis Malokinis</td>\n",
       "      <td>M</td>\n",
       "      <td>NaN</td>\n",
       "      <td>NaN</td>\n",
       "      <td>NaN</td>\n",
       "      <td>Greece</td>\n",
       "      <td>GRE</td>\n",
       "      <td>1896 Summer</td>\n",
       "      <td>1896</td>\n",
       "      <td>Summer</td>\n",
       "      <td>Athina</td>\n",
       "      <td>Swimming</td>\n",
       "      <td>Swimming Men's 100 metres Freestyle For Sailors</td>\n",
       "      <td>Gold</td>\n",
       "      <td>Greece</td>\n",
       "      <td>NaN</td>\n",
       "    </tr>\n",
       "    <tr>\n",
       "      <th>254838</th>\n",
       "      <td>127573</td>\n",
       "      <td>Athanasios Vouros</td>\n",
       "      <td>M</td>\n",
       "      <td>NaN</td>\n",
       "      <td>NaN</td>\n",
       "      <td>NaN</td>\n",
       "      <td>Greece</td>\n",
       "      <td>GRE</td>\n",
       "      <td>1896 Summer</td>\n",
       "      <td>1896</td>\n",
       "      <td>Summer</td>\n",
       "      <td>Athina</td>\n",
       "      <td>Fencing</td>\n",
       "      <td>Fencing Men's Foil, Individual</td>\n",
       "      <td>Bronze</td>\n",
       "      <td>Greece</td>\n",
       "      <td>NaN</td>\n",
       "    </tr>\n",
       "    <tr>\n",
       "      <th>254834</th>\n",
       "      <td>127571</td>\n",
       "      <td>Ioannis Vourakis</td>\n",
       "      <td>M</td>\n",
       "      <td>NaN</td>\n",
       "      <td>NaN</td>\n",
       "      <td>NaN</td>\n",
       "      <td>Greece</td>\n",
       "      <td>GRE</td>\n",
       "      <td>1896 Summer</td>\n",
       "      <td>1896</td>\n",
       "      <td>Summer</td>\n",
       "      <td>Athina</td>\n",
       "      <td>Shooting</td>\n",
       "      <td>Shooting Men's Free Rifle, Three Positions, 30...</td>\n",
       "      <td>NaN</td>\n",
       "      <td>Greece</td>\n",
       "      <td>NaN</td>\n",
       "    </tr>\n",
       "    <tr>\n",
       "      <th>164624</th>\n",
       "      <td>82670</td>\n",
       "      <td>Moustakopoulos</td>\n",
       "      <td>M</td>\n",
       "      <td>NaN</td>\n",
       "      <td>NaN</td>\n",
       "      <td>NaN</td>\n",
       "      <td>Greece</td>\n",
       "      <td>GRE</td>\n",
       "      <td>1896 Summer</td>\n",
       "      <td>1896</td>\n",
       "      <td>Summer</td>\n",
       "      <td>Athina</td>\n",
       "      <td>Shooting</td>\n",
       "      <td>Shooting Men's Free Rifle, Three Positions, 30...</td>\n",
       "      <td>NaN</td>\n",
       "      <td>Greece</td>\n",
       "      <td>NaN</td>\n",
       "    </tr>\n",
       "    <tr>\n",
       "      <th>160372</th>\n",
       "      <td>80474</td>\n",
       "      <td>Ioannis Mitropoulos</td>\n",
       "      <td>M</td>\n",
       "      <td>NaN</td>\n",
       "      <td>NaN</td>\n",
       "      <td>NaN</td>\n",
       "      <td>Greece</td>\n",
       "      <td>GRE</td>\n",
       "      <td>1896 Summer</td>\n",
       "      <td>1896</td>\n",
       "      <td>Summer</td>\n",
       "      <td>Athina</td>\n",
       "      <td>Gymnastics</td>\n",
       "      <td>Gymnastics Men's Rings</td>\n",
       "      <td>Gold</td>\n",
       "      <td>Greece</td>\n",
       "      <td>NaN</td>\n",
       "    </tr>\n",
       "  </tbody>\n",
       "</table>\n",
       "</div>"
      ],
      "text/plain": [
       "            ID                 Name Sex  Age  Height  Weight    Team  NOC  \\\n",
       "147806   74168    Ioannis Malokinis   M  NaN     NaN     NaN  Greece  GRE   \n",
       "254838  127573    Athanasios Vouros   M  NaN     NaN     NaN  Greece  GRE   \n",
       "254834  127571     Ioannis Vourakis   M  NaN     NaN     NaN  Greece  GRE   \n",
       "164624   82670       Moustakopoulos   M  NaN     NaN     NaN  Greece  GRE   \n",
       "160372   80474  Ioannis Mitropoulos   M  NaN     NaN     NaN  Greece  GRE   \n",
       "\n",
       "              Games  Year  Season    City       Sport  \\\n",
       "147806  1896 Summer  1896  Summer  Athina    Swimming   \n",
       "254838  1896 Summer  1896  Summer  Athina     Fencing   \n",
       "254834  1896 Summer  1896  Summer  Athina    Shooting   \n",
       "164624  1896 Summer  1896  Summer  Athina    Shooting   \n",
       "160372  1896 Summer  1896  Summer  Athina  Gymnastics   \n",
       "\n",
       "                                                    Event   Medal  Region  \\\n",
       "147806    Swimming Men's 100 metres Freestyle For Sailors    Gold  Greece   \n",
       "254838                     Fencing Men's Foil, Individual  Bronze  Greece   \n",
       "254834  Shooting Men's Free Rifle, Three Positions, 30...     NaN  Greece   \n",
       "164624  Shooting Men's Free Rifle, Three Positions, 30...     NaN  Greece   \n",
       "160372                             Gymnastics Men's Rings    Gold  Greece   \n",
       "\n",
       "       Notes  \n",
       "147806   NaN  \n",
       "254838   NaN  \n",
       "254834   NaN  \n",
       "164624   NaN  \n",
       "160372   NaN  "
      ]
     },
     "execution_count": 35,
     "metadata": {},
     "output_type": "execute_result"
    }
   ],
   "source": [
    "athletes_df.query('Team == \"Greece\"').sort_values(by='Year').head(5)"
   ]
  },
  {
   "cell_type": "markdown",
   "metadata": {},
   "source": [
    "- First 5 Greece athletes to participate in Olympic games"
   ]
  },
  {
   "cell_type": "markdown",
   "metadata": {},
   "source": [
    "# Top 10 Countries by Number of Athletes"
   ]
  },
  {
   "cell_type": "code",
   "execution_count": 36,
   "metadata": {},
   "outputs": [
    {
     "data": {
      "text/plain": [
       "United States    17598\n",
       "France           11817\n",
       "Great Britain    11264\n",
       "Italy            10213\n",
       "Germany           9230\n",
       "Canada            9226\n",
       "Japan             8269\n",
       "Sweden            8004\n",
       "Australia         7512\n",
       "Hungary           6492\n",
       "Name: Team, dtype: int64"
      ]
     },
     "execution_count": 36,
     "metadata": {},
     "output_type": "execute_result"
    }
   ],
   "source": [
    "top_10_countries = athletes_df.Team.value_counts().sort_values(ascending=False).head(10)\n",
    "top_10_countries"
   ]
  },
  {
   "cell_type": "code",
   "execution_count": 37,
   "metadata": {},
   "outputs": [
    {
     "data": {
      "image/png": "[encoded data removed]",
      "text/plain": [
       "<Figure size 1008x504 with 1 Axes>"
      ]
     },
     "metadata": {
      "needs_background": "light"
     },
     "output_type": "display_data"
    }
   ],
   "source": [
    "plt.figure(figsize=(14,7))\n",
    "plt.title('Top 10 Countries by Number of Athletes')\n",
    "sns.barplot(x=top_10_countries.index, y=top_10_countries, palette = 'Set1');"
   ]
  },
  {
   "cell_type": "markdown",
   "metadata": {},
   "source": [
    "- US topped the highest participation list\n",
    "- European countries participated the most - 6"
   ]
  },
  {
   "cell_type": "markdown",
   "metadata": {},
   "source": [
    "# Age-wise distribution of the athletes\n",
    "Histogram represeting the distribution of ages among athletes, highlighting the number of participants in each age range."
   ]
  },
  {
   "cell_type": "code",
   "execution_count": 38,
   "metadata": {},
   "outputs": [
    {
     "data": {
      "image/png": "[encoded data removed]",
      "text/plain": [
       "<Figure size 1008x504 with 1 Axes>"
      ]
     },
     "metadata": {
      "needs_background": "light"
     },
     "output_type": "display_data"
    }
   ],
   "source": [
    "plt.figure(figsize=(14, 7))\n",
    "plt.title(\"Age distribution of the athletes\")\n",
    "plt.xlabel('Age')\n",
    "plt.ylabel('Number of participants')\n",
    "plt.hist(athletes_df.Age, bins = np.arange(10,80,2), color='red', edgecolor = 'white');"
   ]
  },
  {
   "cell_type": "markdown",
   "metadata": {},
   "source": [
    "- Most athletes were found in the age range of 20-30 years\n",
    "- Young athelets qualifies for Olmypic Games the most"
   ]
  },
  {
   "cell_type": "markdown",
   "metadata": {},
   "source": [
    "# No. of sports in Summer & Winter Olympic Games\n",
    "This pie chart illustrates the distribution of unique sports across the Winter and Summer seasons."
   ]
  },
  {
   "cell_type": "code",
   "execution_count": 39,
   "metadata": {},
   "outputs": [
    {
     "data": {
      "text/plain": [
       "17"
      ]
     },
     "execution_count": 39,
     "metadata": {},
     "output_type": "execute_result"
    }
   ],
   "source": [
    "winter_sports = athletes_df[athletes_df.Season == 'Winter'].Sport.nunique()\n",
    "winter_sports"
   ]
  },
  {
   "cell_type": "code",
   "execution_count": 40,
   "metadata": {},
   "outputs": [
    {
     "data": {
      "text/plain": [
       "52"
      ]
     },
     "execution_count": 40,
     "metadata": {},
     "output_type": "execute_result"
    }
   ],
   "source": [
    "summer_sports = athletes_df[athletes_df.Season == 'Summer'].Sport.nunique()\n",
    "summer_sports"
   ]
  },
  {
   "cell_type": "code",
   "execution_count": 41,
   "metadata": {},
   "outputs": [
    {
     "data": {
      "image/png": "[encoded data removed]",
      "text/plain": [
       "<Figure size 504x504 with 1 Axes>"
      ]
     },
     "metadata": {},
     "output_type": "display_data"
    }
   ],
   "source": [
    "sports_count_per_season = athletes_df.groupby('Season')['Sport'].nunique()\n",
    "\n",
    "plt.figure(figsize=(7, 7))\n",
    "plt.pie(sports_count_per_season, \n",
    "        labels=[f'{label} - {count}' for label, count in sports_count_per_season.items()], \n",
    "        startangle=45, \n",
    "        colors=['red', 'orange'])\n",
    "plt.title('Number of Sports in Winter and Summer Games')\n",
    "plt.show()"
   ]
  },
  {
   "cell_type": "markdown",
   "metadata": {},
   "source": [
    "- More games are considered in Summer games\n",
    "- This chart helps to understand the scope of events in each season."
   ]
  },
  {
   "cell_type": "markdown",
   "metadata": {},
   "source": [
    "# Count of Male and Female participants\n",
    "This pie chart visualizes the distribution of athletes by gender, showing the proportion of each gender in the dataset."
   ]
  },
  {
   "cell_type": "code",
   "execution_count": 42,
   "metadata": {},
   "outputs": [
    {
     "data": {
      "text/plain": [
       "M    195353\n",
       "F     74378\n",
       "Name: Sex, dtype: int64"
      ]
     },
     "execution_count": 42,
     "metadata": {},
     "output_type": "execute_result"
    }
   ],
   "source": [
    "gender_counts = athletes_df.Sex.value_counts()\n",
    "gender_counts"
   ]
  },
  {
   "cell_type": "code",
   "execution_count": 43,
   "metadata": {},
   "outputs": [
    {
     "data": {
      "image/png": "[encoded data removed]",
      "text/plain": [
       "<Figure size 864x432 with 1 Axes>"
      ]
     },
     "metadata": {},
     "output_type": "display_data"
    }
   ],
   "source": [
    "plt.figure(figsize=(12,6))\n",
    "plt.title('Gender Distribution')\n",
    "plt.pie(gender_counts, labels=gender_counts.index, autopct='%1.1f%%', startangle=150, colors=['blue', 'magenta']);"
   ]
  },
  {
   "cell_type": "markdown",
   "metadata": {},
   "source": [
    "- Male athletes are maximum from start till date.\n",
    "- From the pie chart we can analyze the trends in gender diversity in sports."
   ]
  },
  {
   "cell_type": "code",
   "execution_count": 44,
   "metadata": {},
   "outputs": [
    {
     "data": {
      "text/html": [
       "<div>\n",
       "<style scoped>\n",
       "    .dataframe tbody tr th:only-of-type {\n",
       "        vertical-align: middle;\n",
       "    }\n",
       "\n",
       "    .dataframe tbody tr th {\n",
       "        vertical-align: top;\n",
       "    }\n",
       "\n",
       "    .dataframe thead th {\n",
       "        text-align: right;\n",
       "    }\n",
       "</style>\n",
       "<table border=\"1\" class=\"dataframe\">\n",
       "  <thead>\n",
       "    <tr style=\"text-align: right;\">\n",
       "      <th></th>\n",
       "      <th>ID</th>\n",
       "      <th>Name</th>\n",
       "      <th>Sex</th>\n",
       "      <th>Age</th>\n",
       "      <th>Height</th>\n",
       "      <th>Weight</th>\n",
       "      <th>Team</th>\n",
       "      <th>NOC</th>\n",
       "      <th>Games</th>\n",
       "      <th>Year</th>\n",
       "      <th>Season</th>\n",
       "      <th>City</th>\n",
       "      <th>Sport</th>\n",
       "      <th>Event</th>\n",
       "      <th>Medal</th>\n",
       "      <th>Region</th>\n",
       "      <th>Notes</th>\n",
       "    </tr>\n",
       "  </thead>\n",
       "  <tbody>\n",
       "    <tr>\n",
       "      <th>271080</th>\n",
       "      <td>135553</td>\n",
       "      <td>Galina Ivanovna Zybina (-Fyodorova)</td>\n",
       "      <td>F</td>\n",
       "      <td>33.0</td>\n",
       "      <td>168.0</td>\n",
       "      <td>80.0</td>\n",
       "      <td>Soviet Union</td>\n",
       "      <td>URS</td>\n",
       "      <td>1964 Summer</td>\n",
       "      <td>1964</td>\n",
       "      <td>Summer</td>\n",
       "      <td>Tokyo</td>\n",
       "      <td>Athletics</td>\n",
       "      <td>Athletics Women's Shot Put</td>\n",
       "      <td>Bronze</td>\n",
       "      <td>Russia</td>\n",
       "      <td>NaN</td>\n",
       "    </tr>\n",
       "    <tr>\n",
       "      <th>271099</th>\n",
       "      <td>135560</td>\n",
       "      <td>Stavroula Zygouri</td>\n",
       "      <td>F</td>\n",
       "      <td>36.0</td>\n",
       "      <td>171.0</td>\n",
       "      <td>63.0</td>\n",
       "      <td>Greece</td>\n",
       "      <td>GRE</td>\n",
       "      <td>2004 Summer</td>\n",
       "      <td>2004</td>\n",
       "      <td>Summer</td>\n",
       "      <td>Athina</td>\n",
       "      <td>Wrestling</td>\n",
       "      <td>Wrestling Women's Middleweight, Freestyle</td>\n",
       "      <td>NaN</td>\n",
       "      <td>Greece</td>\n",
       "      <td>NaN</td>\n",
       "    </tr>\n",
       "    <tr>\n",
       "      <th>271102</th>\n",
       "      <td>135563</td>\n",
       "      <td>Olesya Nikolayevna Zykina</td>\n",
       "      <td>F</td>\n",
       "      <td>19.0</td>\n",
       "      <td>171.0</td>\n",
       "      <td>64.0</td>\n",
       "      <td>Russia</td>\n",
       "      <td>RUS</td>\n",
       "      <td>2000 Summer</td>\n",
       "      <td>2000</td>\n",
       "      <td>Summer</td>\n",
       "      <td>Sydney</td>\n",
       "      <td>Athletics</td>\n",
       "      <td>Athletics Women's 4 x 400 metres Relay</td>\n",
       "      <td>Bronze</td>\n",
       "      <td>Russia</td>\n",
       "      <td>NaN</td>\n",
       "    </tr>\n",
       "    <tr>\n",
       "      <th>271103</th>\n",
       "      <td>135563</td>\n",
       "      <td>Olesya Nikolayevna Zykina</td>\n",
       "      <td>F</td>\n",
       "      <td>23.0</td>\n",
       "      <td>171.0</td>\n",
       "      <td>64.0</td>\n",
       "      <td>Russia</td>\n",
       "      <td>RUS</td>\n",
       "      <td>2004 Summer</td>\n",
       "      <td>2004</td>\n",
       "      <td>Summer</td>\n",
       "      <td>Athina</td>\n",
       "      <td>Athletics</td>\n",
       "      <td>Athletics Women's 4 x 400 metres Relay</td>\n",
       "      <td>Silver</td>\n",
       "      <td>Russia</td>\n",
       "      <td>NaN</td>\n",
       "    </tr>\n",
       "    <tr>\n",
       "      <th>271110</th>\n",
       "      <td>135568</td>\n",
       "      <td>Olga Igorevna Zyuzkova</td>\n",
       "      <td>F</td>\n",
       "      <td>33.0</td>\n",
       "      <td>171.0</td>\n",
       "      <td>69.0</td>\n",
       "      <td>Belarus</td>\n",
       "      <td>BLR</td>\n",
       "      <td>2016 Summer</td>\n",
       "      <td>2016</td>\n",
       "      <td>Summer</td>\n",
       "      <td>Rio de Janeiro</td>\n",
       "      <td>Basketball</td>\n",
       "      <td>Basketball Women's Basketball</td>\n",
       "      <td>NaN</td>\n",
       "      <td>Belarus</td>\n",
       "      <td>NaN</td>\n",
       "    </tr>\n",
       "  </tbody>\n",
       "</table>\n",
       "</div>"
      ],
      "text/plain": [
       "            ID                                 Name Sex   Age  Height  Weight  \\\n",
       "271080  135553  Galina Ivanovna Zybina (-Fyodorova)   F  33.0   168.0    80.0   \n",
       "271099  135560                    Stavroula Zygouri   F  36.0   171.0    63.0   \n",
       "271102  135563            Olesya Nikolayevna Zykina   F  19.0   171.0    64.0   \n",
       "271103  135563            Olesya Nikolayevna Zykina   F  23.0   171.0    64.0   \n",
       "271110  135568               Olga Igorevna Zyuzkova   F  33.0   171.0    69.0   \n",
       "\n",
       "                Team  NOC        Games  Year  Season            City  \\\n",
       "271080  Soviet Union  URS  1964 Summer  1964  Summer           Tokyo   \n",
       "271099        Greece  GRE  2004 Summer  2004  Summer          Athina   \n",
       "271102        Russia  RUS  2000 Summer  2000  Summer          Sydney   \n",
       "271103        Russia  RUS  2004 Summer  2004  Summer          Athina   \n",
       "271110       Belarus  BLR  2016 Summer  2016  Summer  Rio de Janeiro   \n",
       "\n",
       "             Sport                                      Event   Medal  \\\n",
       "271080   Athletics                 Athletics Women's Shot Put  Bronze   \n",
       "271099   Wrestling  Wrestling Women's Middleweight, Freestyle     NaN   \n",
       "271102   Athletics     Athletics Women's 4 x 400 metres Relay  Bronze   \n",
       "271103   Athletics     Athletics Women's 4 x 400 metres Relay  Silver   \n",
       "271110  Basketball              Basketball Women's Basketball     NaN   \n",
       "\n",
       "         Region Notes  \n",
       "271080   Russia   NaN  \n",
       "271099   Greece   NaN  \n",
       "271102   Russia   NaN  \n",
       "271103   Russia   NaN  \n",
       "271110  Belarus   NaN  "
      ]
     },
     "execution_count": 44,
     "metadata": {},
     "output_type": "execute_result"
    }
   ],
   "source": [
    "womenOlympics = athletes_df [(athletes_df.Sex == 'F') & (athletes_df. Season == 'Summer')]\n",
    "womenOlympics.tail()"
   ]
  },
  {
   "cell_type": "code",
   "execution_count": 45,
   "metadata": {},
   "outputs": [
    {
     "data": {
      "image/png": "[encoded data removed]",
      "text/plain": [
       "<Figure size 864x432 with 1 Axes>"
      ]
     },
     "metadata": {
      "needs_background": "light"
     },
     "output_type": "display_data"
    }
   ],
   "source": [
    "womenOlympics = athletes_df[(athletes_df.Sex == 'F') & (athletes_df.Season == 'Summer')]\n",
    "\n",
    "part = womenOlympics.groupby('Year')['Sex'].count()\n",
    "\n",
    "plt.figure(figsize=(12, 6))\n",
    "part.plot(color='purple', marker='o', linestyle='-')\n",
    "plt.title('Trend of Female Athletes Over Time in Summer Olympics')\n",
    "plt.xlabel('Year')\n",
    "plt.ylabel('Number of Female Athletes')\n",
    "plt.grid(True, linestyle='--', alpha=0.5)\n",
    "plt.show()"
   ]
  }
 ],
 "metadata": {
  "kernelspec": {
   "display_name": "Python 3 (ipykernel)",
   "language": "python",
   "name": "python3"
  },
  "language_info": {
   "codemirror_mode": {
    "name": "ipython",
    "version": 3
   },
   "file_extension": ".py",
   "mimetype": "text/x-python",
   "name": "python",
   "nbconvert_exporter": "python",
   "pygments_lexer": "ipython3",
   "version": "3.9.12"
  }
 },
 "nbformat": 4,
 "nbformat_minor": 2
}
