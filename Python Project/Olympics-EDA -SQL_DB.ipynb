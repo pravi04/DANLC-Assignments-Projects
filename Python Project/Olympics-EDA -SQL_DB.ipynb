{
 "cells": [
  {
   "cell_type": "code",
   "execution_count": 3,
   "id": "a8cde5df",
   "metadata": {},
   "outputs": [],
   "source": [
    "import mysql.connector\n",
    "import pandas as pd\n",
    "import numpy as np\n",
    "import matplotlib.pyplot as plt\n",
    "import seaborn as sns"
   ]
  },
  {
   "cell_type": "markdown",
   "id": "7d4dd3c6",
   "metadata": {},
   "source": [
    "# Load the Datasets"
   ]
  },
  {
   "cell_type": "code",
   "execution_count": 4,
   "id": "4f9bc424",
   "metadata": {},
   "outputs": [],
   "source": [
    "dataset1 = pd.read_csv(\"athlete_events.csv\")\n",
    "dataset2 = pd.read_csv(\"noc_regions.csv\")"
   ]
  },
  {
   "cell_type": "markdown",
   "id": "d50c2eb9",
   "metadata": {},
   "source": [
    "# Check if there are any NaN values"
   ]
  },
  {
   "cell_type": "code",
   "execution_count": 5,
   "id": "32e41576",
   "metadata": {
    "scrolled": false
   },
   "outputs": [
    {
     "name": "stdout",
     "output_type": "stream",
     "text": [
      "NaN values in dataset1:\n",
      "ID             0\n",
      "Name           0\n",
      "Sex            0\n",
      "Age         9474\n",
      "Height     60171\n",
      "Weight     62875\n",
      "Team           0\n",
      "NOC            0\n",
      "Games          0\n",
      "Year           0\n",
      "Season         0\n",
      "City           0\n",
      "Sport          0\n",
      "Event          0\n",
      "Medal     231333\n",
      "dtype: int64\n",
      "NaN values in dataset2:\n",
      "NOC         0\n",
      "region      3\n",
      "notes     209\n",
      "dtype: int64\n"
     ]
    }
   ],
   "source": [
    "print(f\"NaN values in dataset1:\\n{dataset1.isnull().sum()}\")\n",
    "print(f\"NaN values in dataset2:\\n{dataset2.isnull().sum()}\")"
   ]
  },
  {
   "cell_type": "markdown",
   "id": "e5857c6a",
   "metadata": {},
   "source": [
    "# Handling Missing Data (NaN values)"
   ]
  },
  {
   "cell_type": "code",
   "execution_count": 7,
   "id": "1683235b",
   "metadata": {},
   "outputs": [],
   "source": [
    "dataset1 = dataset1.fillna(value=0)\n",
    "dataset2 = dataset2.fillna(value=0)"
   ]
  },
  {
   "cell_type": "markdown",
   "id": "a70f5c47",
   "metadata": {},
   "source": [
    "# Check if there are any remaining NaN values"
   ]
  },
  {
   "cell_type": "code",
   "execution_count": 8,
   "id": "086eee70",
   "metadata": {
    "scrolled": false
   },
   "outputs": [
    {
     "name": "stdout",
     "output_type": "stream",
     "text": [
      "NaN values in dataset1:\n",
      "ID        0\n",
      "Name      0\n",
      "Sex       0\n",
      "Age       0\n",
      "Height    0\n",
      "Weight    0\n",
      "Team      0\n",
      "NOC       0\n",
      "Games     0\n",
      "Year      0\n",
      "Season    0\n",
      "City      0\n",
      "Sport     0\n",
      "Event     0\n",
      "Medal     0\n",
      "dtype: int64\n",
      "NaN values in dataset2:\n",
      "NOC       0\n",
      "region    0\n",
      "notes     0\n",
      "dtype: int64\n"
     ]
    }
   ],
   "source": [
    "print(f\"NaN values in dataset1:\\n{dataset1.isnull().sum()}\")\n",
    "print(f\"NaN values in dataset2:\\n{dataset2.isnull().sum()}\")"
   ]
  },
  {
   "cell_type": "markdown",
   "id": "b39eef8b",
   "metadata": {},
   "source": [
    "# Connect to the MySQL database"
   ]
  },
  {
   "cell_type": "code",
   "execution_count": 9,
   "id": "17c5e465",
   "metadata": {},
   "outputs": [],
   "source": [
    "connection = mysql.connector.connect(\n",
    "    host=\"localhost\",\n",
    "    user=\"root\",\n",
    "    password=\"root\",\n",
    "    database=\"olympics\"\n",
    ")"
   ]
  },
  {
   "cell_type": "code",
   "execution_count": 10,
   "id": "7f3dcc1f",
   "metadata": {},
   "outputs": [
    {
     "name": "stdout",
     "output_type": "stream",
     "text": [
      "Data saved to table athletes.\n",
      "Data saved to table noc.\n"
     ]
    }
   ],
   "source": [
    "# Updated Function to Save a DataFrame to SQL\n",
    "def save_to_sql(df, table_name, connection):\n",
    "    \n",
    "#The cursor acts as a bridge between your Python program and the database.\n",
    "    cursor = connection.cursor()\n",
    "    \n",
    "    # Create table if it doesn't exist\n",
    "    cursor.execute(f\"CREATE TABLE IF NOT EXISTS {table_name} ({', '.join([f'{col} VARCHAR(255)' for col in df.columns])});\")\n",
    "    \n",
    "    # Insert data into the table\n",
    "    for i, row in df.iterrows():\n",
    "        placeholders = \", \".join([\"%s\"] * len(row))\n",
    "        insert_query = f\"INSERT INTO {table_name} VALUES ({placeholders});\"\n",
    "        cursor.execute(insert_query, tuple(row))\n",
    "        \n",
    "    connection.commit()\n",
    "    print(f\"Data saved to table {table_name}.\")\n",
    "    \n",
    "save_to_sql(dataset1, \"athletes\", connection)  \n",
    "save_to_sql(dataset2, \"noc\", connection)"
   ]
  },
  {
   "cell_type": "markdown",
   "id": "4814146d",
   "metadata": {},
   "source": [
    "# Load Data into Pandas DataFrame & Verifying the dataset"
   ]
  },
  {
   "cell_type": "code",
   "execution_count": 11,
   "id": "26c332e4",
   "metadata": {
    "scrolled": false
   },
   "outputs": [
    {
     "name": "stderr",
     "output_type": "stream",
     "text": [
      "C:\\Users\\pravi\\anaconda3\\lib\\site-packages\\pandas\\io\\sql.py:761: UserWarning: pandas only support SQLAlchemy connectable(engine/connection) ordatabase string URI or sqlite3 DBAPI2 connectionother DBAPI2 objects are not tested, please consider using SQLAlchemy\n",
      "  warnings.warn(\n"
     ]
    },
    {
     "name": "stdout",
     "output_type": "stream",
     "text": [
      "  ID                      Name Sex   Age Height Weight            Team  NOC  \\\n",
      "0  1                 A Dijiang   M  24.0  180.0   80.0           China  CHN   \n",
      "1  2                  A Lamusi   M  23.0  170.0   60.0           China  CHN   \n",
      "2  3       Gunnar Nielsen Aaby   M  24.0    0.0    0.0         Denmark  DEN   \n",
      "3  4      Edgar Lindenau Aabye   M  34.0    0.0    0.0  Denmark/Sweden  DEN   \n",
      "4  5  Christine Jacoba Aaftink   F  21.0  185.0   82.0     Netherlands  NED   \n",
      "\n",
      "         Games  Year  Season       City          Sport  \\\n",
      "0  1992 Summer  1992  Summer  Barcelona     Basketball   \n",
      "1  2012 Summer  2012  Summer     London           Judo   \n",
      "2  1920 Summer  1920  Summer  Antwerpen       Football   \n",
      "3  1900 Summer  1900  Summer      Paris     Tug-Of-War   \n",
      "4  1988 Winter  1988  Winter    Calgary  Speed Skating   \n",
      "\n",
      "                              Event Medal  \n",
      "0       Basketball Men's Basketball     0  \n",
      "1      Judo Men's Extra-Lightweight     0  \n",
      "2           Football Men's Football     0  \n",
      "3       Tug-Of-War Men's Tug-Of-War  Gold  \n",
      "4  Speed Skating Women's 500 metres     0  \n",
      "   NOC       region                 notes\n",
      "0  AFG  Afghanistan                     0\n",
      "1  AHO      Curacao  Netherlands Antilles\n",
      "2  ALB      Albania                     0\n",
      "3  ALG      Algeria                     0\n",
      "4  AND      Andorra                     0\n"
     ]
    },
    {
     "name": "stderr",
     "output_type": "stream",
     "text": [
      "C:\\Users\\pravi\\anaconda3\\lib\\site-packages\\pandas\\io\\sql.py:761: UserWarning: pandas only support SQLAlchemy connectable(engine/connection) ordatabase string URI or sqlite3 DBAPI2 connectionother DBAPI2 objects are not tested, please consider using SQLAlchemy\n",
      "  warnings.warn(\n"
     ]
    }
   ],
   "source": [
    "# Query to fetch data from the 'athletes' table\n",
    "query_athletes = 'SELECT * FROM athletes;'\n",
    "athletes_df = pd.read_sql(query_athletes, connection)  #Load the data into a pandas DataFrame\n",
    "\n",
    "# Query to fetch data from the 'noc' table\n",
    "query_noc = 'SELECT * FROM noc;'\n",
    "noc_df = pd.read_sql(query_noc, connection)\n",
    "\n",
    "# Check the first few rows to ensure the data is loaded correctly\n",
    "print(athletes_df.head())\n",
    "print(noc_df.head())"
   ]
  },
  {
   "cell_type": "markdown",
   "id": "91bce5df",
   "metadata": {},
   "source": [
    "# Verifying rows and columns"
   ]
  },
  {
   "cell_type": "code",
   "execution_count": 12,
   "id": "759eeb25",
   "metadata": {},
   "outputs": [
    {
     "data": {
      "text/plain": [
       "(271116, 15)"
      ]
     },
     "execution_count": 12,
     "metadata": {},
     "output_type": "execute_result"
    }
   ],
   "source": [
    "athletes_df.shape"
   ]
  },
  {
   "cell_type": "code",
   "execution_count": 13,
   "id": "098ef864",
   "metadata": {},
   "outputs": [
    {
     "data": {
      "text/plain": [
       "(230, 3)"
      ]
     },
     "execution_count": 13,
     "metadata": {},
     "output_type": "execute_result"
    }
   ],
   "source": [
    "noc_df.shape"
   ]
  },
  {
   "cell_type": "markdown",
   "id": "6d97d255",
   "metadata": {},
   "source": [
    "# Joining datasets/dataframes\n"
   ]
  },
  {
   "cell_type": "markdown",
   "id": "38671818",
   "metadata": {},
   "source": [
    "To easily recognise the Country associated with a particular NOC (National Olympic Committee). Using Left join"
   ]
  },
  {
   "cell_type": "code",
   "execution_count": 15,
   "id": "e9c31144",
   "metadata": {},
   "outputs": [
    {
     "data": {
      "text/html": [
       "<div>\n",
       "<style scoped>\n",
       "    .dataframe tbody tr th:only-of-type {\n",
       "        vertical-align: middle;\n",
       "    }\n",
       "\n",
       "    .dataframe tbody tr th {\n",
       "        vertical-align: top;\n",
       "    }\n",
       "\n",
       "    .dataframe thead th {\n",
       "        text-align: right;\n",
       "    }\n",
       "</style>\n",
       "<table border=\"1\" class=\"dataframe\">\n",
       "  <thead>\n",
       "    <tr style=\"text-align: right;\">\n",
       "      <th></th>\n",
       "      <th>ID</th>\n",
       "      <th>Name</th>\n",
       "      <th>Sex</th>\n",
       "      <th>Age</th>\n",
       "      <th>Height</th>\n",
       "      <th>Weight</th>\n",
       "      <th>Team</th>\n",
       "      <th>NOC</th>\n",
       "      <th>Games</th>\n",
       "      <th>Year</th>\n",
       "      <th>Season</th>\n",
       "      <th>City</th>\n",
       "      <th>Sport</th>\n",
       "      <th>Event</th>\n",
       "      <th>Medal</th>\n",
       "      <th>region</th>\n",
       "      <th>notes</th>\n",
       "    </tr>\n",
       "  </thead>\n",
       "  <tbody>\n",
       "    <tr>\n",
       "      <th>0</th>\n",
       "      <td>1</td>\n",
       "      <td>A Dijiang</td>\n",
       "      <td>M</td>\n",
       "      <td>24.0</td>\n",
       "      <td>180.0</td>\n",
       "      <td>80.0</td>\n",
       "      <td>China</td>\n",
       "      <td>CHN</td>\n",
       "      <td>1992 Summer</td>\n",
       "      <td>1992</td>\n",
       "      <td>Summer</td>\n",
       "      <td>Barcelona</td>\n",
       "      <td>Basketball</td>\n",
       "      <td>Basketball Men's Basketball</td>\n",
       "      <td>0</td>\n",
       "      <td>China</td>\n",
       "      <td>0</td>\n",
       "    </tr>\n",
       "    <tr>\n",
       "      <th>1</th>\n",
       "      <td>2</td>\n",
       "      <td>A Lamusi</td>\n",
       "      <td>M</td>\n",
       "      <td>23.0</td>\n",
       "      <td>170.0</td>\n",
       "      <td>60.0</td>\n",
       "      <td>China</td>\n",
       "      <td>CHN</td>\n",
       "      <td>2012 Summer</td>\n",
       "      <td>2012</td>\n",
       "      <td>Summer</td>\n",
       "      <td>London</td>\n",
       "      <td>Judo</td>\n",
       "      <td>Judo Men's Extra-Lightweight</td>\n",
       "      <td>0</td>\n",
       "      <td>China</td>\n",
       "      <td>0</td>\n",
       "    </tr>\n",
       "    <tr>\n",
       "      <th>2</th>\n",
       "      <td>3</td>\n",
       "      <td>Gunnar Nielsen Aaby</td>\n",
       "      <td>M</td>\n",
       "      <td>24.0</td>\n",
       "      <td>0.0</td>\n",
       "      <td>0.0</td>\n",
       "      <td>Denmark</td>\n",
       "      <td>DEN</td>\n",
       "      <td>1920 Summer</td>\n",
       "      <td>1920</td>\n",
       "      <td>Summer</td>\n",
       "      <td>Antwerpen</td>\n",
       "      <td>Football</td>\n",
       "      <td>Football Men's Football</td>\n",
       "      <td>0</td>\n",
       "      <td>Denmark</td>\n",
       "      <td>0</td>\n",
       "    </tr>\n",
       "    <tr>\n",
       "      <th>3</th>\n",
       "      <td>4</td>\n",
       "      <td>Edgar Lindenau Aabye</td>\n",
       "      <td>M</td>\n",
       "      <td>34.0</td>\n",
       "      <td>0.0</td>\n",
       "      <td>0.0</td>\n",
       "      <td>Denmark/Sweden</td>\n",
       "      <td>DEN</td>\n",
       "      <td>1900 Summer</td>\n",
       "      <td>1900</td>\n",
       "      <td>Summer</td>\n",
       "      <td>Paris</td>\n",
       "      <td>Tug-Of-War</td>\n",
       "      <td>Tug-Of-War Men's Tug-Of-War</td>\n",
       "      <td>Gold</td>\n",
       "      <td>Denmark</td>\n",
       "      <td>0</td>\n",
       "    </tr>\n",
       "    <tr>\n",
       "      <th>4</th>\n",
       "      <td>5</td>\n",
       "      <td>Christine Jacoba Aaftink</td>\n",
       "      <td>F</td>\n",
       "      <td>21.0</td>\n",
       "      <td>185.0</td>\n",
       "      <td>82.0</td>\n",
       "      <td>Netherlands</td>\n",
       "      <td>NED</td>\n",
       "      <td>1988 Winter</td>\n",
       "      <td>1988</td>\n",
       "      <td>Winter</td>\n",
       "      <td>Calgary</td>\n",
       "      <td>Speed Skating</td>\n",
       "      <td>Speed Skating Women's 500 metres</td>\n",
       "      <td>0</td>\n",
       "      <td>Netherlands</td>\n",
       "      <td>0</td>\n",
       "    </tr>\n",
       "  </tbody>\n",
       "</table>\n",
       "</div>"
      ],
      "text/plain": [
       "   ID                      Name Sex   Age  Height  Weight            Team  \\\n",
       "0   1                 A Dijiang   M  24.0   180.0    80.0           China   \n",
       "1   2                  A Lamusi   M  23.0   170.0    60.0           China   \n",
       "2   3       Gunnar Nielsen Aaby   M  24.0     0.0     0.0         Denmark   \n",
       "3   4      Edgar Lindenau Aabye   M  34.0     0.0     0.0  Denmark/Sweden   \n",
       "4   5  Christine Jacoba Aaftink   F  21.0   185.0    82.0     Netherlands   \n",
       "\n",
       "   NOC        Games  Year  Season       City          Sport  \\\n",
       "0  CHN  1992 Summer  1992  Summer  Barcelona     Basketball   \n",
       "1  CHN  2012 Summer  2012  Summer     London           Judo   \n",
       "2  DEN  1920 Summer  1920  Summer  Antwerpen       Football   \n",
       "3  DEN  1900 Summer  1900  Summer      Paris     Tug-Of-War   \n",
       "4  NED  1988 Winter  1988  Winter    Calgary  Speed Skating   \n",
       "\n",
       "                              Event Medal       region notes  \n",
       "0       Basketball Men's Basketball     0        China     0  \n",
       "1      Judo Men's Extra-Lightweight     0        China     0  \n",
       "2           Football Men's Football     0      Denmark     0  \n",
       "3       Tug-Of-War Men's Tug-Of-War  Gold      Denmark     0  \n",
       "4  Speed Skating Women's 500 metres     0  Netherlands     0  "
      ]
     },
     "execution_count": 15,
     "metadata": {},
     "output_type": "execute_result"
    }
   ],
   "source": [
    "athletes_df = dataset1.merge(dataset2, how = 'left', on = 'NOC')\n",
    "athletes_df.head()"
   ]
  },
  {
   "cell_type": "code",
   "execution_count": 16,
   "id": "b58c8d48",
   "metadata": {},
   "outputs": [
    {
     "data": {
      "text/plain": [
       "(271116, 17)"
      ]
     },
     "execution_count": 16,
     "metadata": {},
     "output_type": "execute_result"
    }
   ],
   "source": [
    "athletes_df.shape"
   ]
  },
  {
   "cell_type": "markdown",
   "id": "9da09623",
   "metadata": {},
   "source": [
    "# Making column consistent"
   ]
  },
  {
   "cell_type": "code",
   "execution_count": 17,
   "id": "fd05e0e1",
   "metadata": {},
   "outputs": [
    {
     "data": {
      "text/html": [
       "<div>\n",
       "<style scoped>\n",
       "    .dataframe tbody tr th:only-of-type {\n",
       "        vertical-align: middle;\n",
       "    }\n",
       "\n",
       "    .dataframe tbody tr th {\n",
       "        vertical-align: top;\n",
       "    }\n",
       "\n",
       "    .dataframe thead th {\n",
       "        text-align: right;\n",
       "    }\n",
       "</style>\n",
       "<table border=\"1\" class=\"dataframe\">\n",
       "  <thead>\n",
       "    <tr style=\"text-align: right;\">\n",
       "      <th></th>\n",
       "      <th>ID</th>\n",
       "      <th>Name</th>\n",
       "      <th>Sex</th>\n",
       "      <th>Age</th>\n",
       "      <th>Height</th>\n",
       "      <th>Weight</th>\n",
       "      <th>Team</th>\n",
       "      <th>NOC</th>\n",
       "      <th>Games</th>\n",
       "      <th>Year</th>\n",
       "      <th>Season</th>\n",
       "      <th>City</th>\n",
       "      <th>Sport</th>\n",
       "      <th>Event</th>\n",
       "      <th>Medal</th>\n",
       "      <th>Region</th>\n",
       "      <th>Notes</th>\n",
       "    </tr>\n",
       "  </thead>\n",
       "  <tbody>\n",
       "    <tr>\n",
       "      <th>0</th>\n",
       "      <td>1</td>\n",
       "      <td>A Dijiang</td>\n",
       "      <td>M</td>\n",
       "      <td>24.0</td>\n",
       "      <td>180.0</td>\n",
       "      <td>80.0</td>\n",
       "      <td>China</td>\n",
       "      <td>CHN</td>\n",
       "      <td>1992 Summer</td>\n",
       "      <td>1992</td>\n",
       "      <td>Summer</td>\n",
       "      <td>Barcelona</td>\n",
       "      <td>Basketball</td>\n",
       "      <td>Basketball Men's Basketball</td>\n",
       "      <td>0</td>\n",
       "      <td>China</td>\n",
       "      <td>0</td>\n",
       "    </tr>\n",
       "    <tr>\n",
       "      <th>1</th>\n",
       "      <td>2</td>\n",
       "      <td>A Lamusi</td>\n",
       "      <td>M</td>\n",
       "      <td>23.0</td>\n",
       "      <td>170.0</td>\n",
       "      <td>60.0</td>\n",
       "      <td>China</td>\n",
       "      <td>CHN</td>\n",
       "      <td>2012 Summer</td>\n",
       "      <td>2012</td>\n",
       "      <td>Summer</td>\n",
       "      <td>London</td>\n",
       "      <td>Judo</td>\n",
       "      <td>Judo Men's Extra-Lightweight</td>\n",
       "      <td>0</td>\n",
       "      <td>China</td>\n",
       "      <td>0</td>\n",
       "    </tr>\n",
       "    <tr>\n",
       "      <th>2</th>\n",
       "      <td>3</td>\n",
       "      <td>Gunnar Nielsen Aaby</td>\n",
       "      <td>M</td>\n",
       "      <td>24.0</td>\n",
       "      <td>0.0</td>\n",
       "      <td>0.0</td>\n",
       "      <td>Denmark</td>\n",
       "      <td>DEN</td>\n",
       "      <td>1920 Summer</td>\n",
       "      <td>1920</td>\n",
       "      <td>Summer</td>\n",
       "      <td>Antwerpen</td>\n",
       "      <td>Football</td>\n",
       "      <td>Football Men's Football</td>\n",
       "      <td>0</td>\n",
       "      <td>Denmark</td>\n",
       "      <td>0</td>\n",
       "    </tr>\n",
       "    <tr>\n",
       "      <th>3</th>\n",
       "      <td>4</td>\n",
       "      <td>Edgar Lindenau Aabye</td>\n",
       "      <td>M</td>\n",
       "      <td>34.0</td>\n",
       "      <td>0.0</td>\n",
       "      <td>0.0</td>\n",
       "      <td>Denmark/Sweden</td>\n",
       "      <td>DEN</td>\n",
       "      <td>1900 Summer</td>\n",
       "      <td>1900</td>\n",
       "      <td>Summer</td>\n",
       "      <td>Paris</td>\n",
       "      <td>Tug-Of-War</td>\n",
       "      <td>Tug-Of-War Men's Tug-Of-War</td>\n",
       "      <td>Gold</td>\n",
       "      <td>Denmark</td>\n",
       "      <td>0</td>\n",
       "    </tr>\n",
       "    <tr>\n",
       "      <th>4</th>\n",
       "      <td>5</td>\n",
       "      <td>Christine Jacoba Aaftink</td>\n",
       "      <td>F</td>\n",
       "      <td>21.0</td>\n",
       "      <td>185.0</td>\n",
       "      <td>82.0</td>\n",
       "      <td>Netherlands</td>\n",
       "      <td>NED</td>\n",
       "      <td>1988 Winter</td>\n",
       "      <td>1988</td>\n",
       "      <td>Winter</td>\n",
       "      <td>Calgary</td>\n",
       "      <td>Speed Skating</td>\n",
       "      <td>Speed Skating Women's 500 metres</td>\n",
       "      <td>0</td>\n",
       "      <td>Netherlands</td>\n",
       "      <td>0</td>\n",
       "    </tr>\n",
       "  </tbody>\n",
       "</table>\n",
       "</div>"
      ],
      "text/plain": [
       "   ID                      Name Sex   Age  Height  Weight            Team  \\\n",
       "0   1                 A Dijiang   M  24.0   180.0    80.0           China   \n",
       "1   2                  A Lamusi   M  23.0   170.0    60.0           China   \n",
       "2   3       Gunnar Nielsen Aaby   M  24.0     0.0     0.0         Denmark   \n",
       "3   4      Edgar Lindenau Aabye   M  34.0     0.0     0.0  Denmark/Sweden   \n",
       "4   5  Christine Jacoba Aaftink   F  21.0   185.0    82.0     Netherlands   \n",
       "\n",
       "   NOC        Games  Year  Season       City          Sport  \\\n",
       "0  CHN  1992 Summer  1992  Summer  Barcelona     Basketball   \n",
       "1  CHN  2012 Summer  2012  Summer     London           Judo   \n",
       "2  DEN  1920 Summer  1920  Summer  Antwerpen       Football   \n",
       "3  DEN  1900 Summer  1900  Summer      Paris     Tug-Of-War   \n",
       "4  NED  1988 Winter  1988  Winter    Calgary  Speed Skating   \n",
       "\n",
       "                              Event Medal       Region Notes  \n",
       "0       Basketball Men's Basketball     0        China     0  \n",
       "1      Judo Men's Extra-Lightweight     0        China     0  \n",
       "2           Football Men's Football     0      Denmark     0  \n",
       "3       Tug-Of-War Men's Tug-Of-War  Gold      Denmark     0  \n",
       "4  Speed Skating Women's 500 metres     0  Netherlands     0  "
      ]
     },
     "execution_count": 17,
     "metadata": {},
     "output_type": "execute_result"
    }
   ],
   "source": [
    "athletes_df = athletes_df.rename(columns={'region': 'Region', 'notes': 'Notes'})\n",
    "athletes_df.head()"
   ]
  },
  {
   "cell_type": "markdown",
   "id": "110dba22",
   "metadata": {},
   "source": [
    "# Count & remove duplicate rows"
   ]
  },
  {
   "cell_type": "code",
   "execution_count": 21,
   "id": "77d2b5f8",
   "metadata": {},
   "outputs": [
    {
     "name": "stdout",
     "output_type": "stream",
     "text": [
      "Number of duplicate rows: 1385\n"
     ]
    }
   ],
   "source": [
    "num_duplicates = athletes_df.duplicated().sum()\n",
    "print(f\"Number of duplicate rows: {num_duplicates}\")"
   ]
  },
  {
   "cell_type": "code",
   "execution_count": 23,
   "id": "588a6683",
   "metadata": {},
   "outputs": [],
   "source": [
    "athletes_df = athletes_df.drop_duplicates()"
   ]
  },
  {
   "cell_type": "code",
   "execution_count": 25,
   "id": "23414793",
   "metadata": {},
   "outputs": [
    {
     "name": "stdout",
     "output_type": "stream",
     "text": [
      "Number of duplicate rows: 0\n"
     ]
    }
   ],
   "source": [
    "num_duplicates = athletes_df.duplicated().sum()\n",
    "print(f\"Number of duplicate rows: {num_duplicates}\")"
   ]
  },
  {
   "cell_type": "markdown",
   "id": "26010493",
   "metadata": {},
   "source": [
    "# EDA - Exploratory Data Analysis"
   ]
  },
  {
   "cell_type": "markdown",
   "id": "1020b8c8",
   "metadata": {},
   "source": [
    "## Indian Athletes and Their Medal Records from India's First Olympic Participation Year"
   ]
  },
  {
   "cell_type": "code",
   "execution_count": 31,
   "id": "ab315e8b",
   "metadata": {},
   "outputs": [
    {
     "name": "stdout",
     "output_type": "stream",
     "text": [
      "India's first Olympic participation year: 1900\n",
      "Athletes who participated in that year along with their medal records:\n",
      "                                      Name   Medal\n",
      "193364  Norman Gilbert Pritchard (-Trevor)       0\n",
      "193365  Norman Gilbert Pritchard (-Trevor)       0\n",
      "193366  Norman Gilbert Pritchard (-Trevor)  Silver\n",
      "193367  Norman Gilbert Pritchard (-Trevor)       0\n",
      "193368  Norman Gilbert Pritchard (-Trevor)  Silver\n"
     ]
    }
   ],
   "source": [
    "first_year = athletes_df.query('Team == \"India\"')['Year'].astype(int).min()\n",
    "first_year_athletes = athletes_df.query('Team == \"India\" and Year == @first_year')\n",
    "print(f\"India's first Olympic participation year: {first_year}\")\n",
    "print(\"Athletes who participated in that year along with their medal records:\")\n",
    "print(first_year_athletes[['Name', 'Medal']])"
   ]
  },
  {
   "cell_type": "markdown",
   "id": "70987594",
   "metadata": {},
   "source": [
    "A lone athlete Norman Pritchard represented the country and won two silver medals in athletics in 1900."
   ]
  },
  {
   "cell_type": "markdown",
   "id": "3bd453e6",
   "metadata": {},
   "source": [
    "## India's medal distribution by Year"
   ]
  },
  {
   "cell_type": "code",
   "execution_count": 36,
   "id": "1c7bd094",
   "metadata": {},
   "outputs": [
    {
     "data": {
      "image/png": "[encoded data removed]",
      "text/plain": [
       "<Figure size 864x432 with 1 Axes>"
      ]
     },
     "metadata": {
      "needs_background": "light"
     },
     "output_type": "display_data"
    }
   ],
   "source": [
    "medal_count = (\n",
    "    athletes_df.query('Team == \"India\" and Medal in [\"Gold\", \"Silver\", \"Bronze\"]')\n",
    "    .drop_duplicates(subset=['Year', 'Event', 'Medal'])\n",
    "    .groupby('Year')['Medal']\n",
    "    .count()\n",
    ")\n",
    "plt.figure(figsize=(12, 6))\n",
    "medal_count.plot(kind='bar', color='gold')\n",
    "plt.title(\"India's Medal Count Over the Years\")\n",
    "plt.xlabel(\"Year\")\n",
    "plt.ylabel(\"Number of Medals\")\n",
    "plt.grid(axis='y', linestyle='--', alpha=0.7)\n",
    "plt.show()"
   ]
  },
  {
   "cell_type": "markdown",
   "id": "ad0280e3",
   "metadata": {},
   "source": [
    "- India has won the highest no. of medals in 2012\n",
    "- Constantly single medal each season from 1956 - 2004"
   ]
  },
  {
   "cell_type": "markdown",
   "id": "b425391e",
   "metadata": {},
   "source": [
    "## Top Sports by Participation"
   ]
  },
  {
   "cell_type": "code",
   "execution_count": 37,
   "id": "0544f772",
   "metadata": {},
   "outputs": [
    {
     "data": {
      "image/png": "[encoded data removed]",
      "text/plain": [
       "<Figure size 864x432 with 1 Axes>"
      ]
     },
     "metadata": {
      "needs_background": "light"
     },
     "output_type": "display_data"
    }
   ],
   "source": [
    "top_sports = (athletes_df.query('Team == \"India\"')\n",
    "              .groupby('Sport')['ID'].count()\n",
    "              .sort_values(ascending=False)\n",
    "              .head(10))\n",
    "\n",
    "plt.figure(figsize=(12, 6))\n",
    "top_sports.plot(kind='bar', color='teal')\n",
    "plt.title(\"Top 10 Sports by Indian Participation\")\n",
    "plt.xlabel(\"Sport\")\n",
    "plt.ylabel(\"Number of Athletes\")\n",
    "plt.grid(axis='y', linestyle='--', alpha=0.7)\n",
    "plt.show()"
   ]
  },
  {
   "cell_type": "markdown",
   "id": "f9e172db",
   "metadata": {},
   "source": [
    "- Hockey has the highest participation followed by Athletics and Shooting."
   ]
  },
  {
   "cell_type": "markdown",
   "id": "63793608",
   "metadata": {},
   "source": [
    "## Year-Wise Participation"
   ]
  },
  {
   "cell_type": "code",
   "execution_count": 41,
   "id": "edbb2587",
   "metadata": {
    "scrolled": false
   },
   "outputs": [
    {
     "data": {
      "image/png": "[encoded data removed]",
      "text/plain": [
       "<Figure size 864x432 with 1 Axes>"
      ]
     },
     "metadata": {
      "needs_background": "light"
     },
     "output_type": "display_data"
    }
   ],
   "source": [
    "participation = athletes_df.query('Team == \"India\"').groupby('Year')['ID'].count()\n",
    "\n",
    "plt.figure(figsize=(12, 6))\n",
    "participation.plot(kind='line', marker='o', color='brown')\n",
    "plt.title(\"Year-Wise Participation of Indian Athletes\")\n",
    "plt.xlabel(\"Year\")\n",
    "plt.ylabel(\"Number of Athletes\")\n",
    "plt.grid(alpha=0.4)\n",
    "plt.show()"
   ]
  },
  {
   "cell_type": "markdown",
   "id": "eacdad7f",
   "metadata": {},
   "source": [
    "Analyzes how the number of Indian athletes has been growing and reducing over time."
   ]
  },
  {
   "cell_type": "markdown",
   "id": "1aecaf3d",
   "metadata": {},
   "source": [
    "## Top 10 Countries by Number of Athletes"
   ]
  },
  {
   "cell_type": "code",
   "execution_count": 42,
   "id": "834aa661",
   "metadata": {},
   "outputs": [
    {
     "data": {
      "text/plain": [
       "United States    17598\n",
       "France           11817\n",
       "Great Britain    11264\n",
       "Italy            10213\n",
       "Germany           9230\n",
       "Canada            9226\n",
       "Japan             8269\n",
       "Sweden            8004\n",
       "Australia         7512\n",
       "Hungary           6492\n",
       "Name: Team, dtype: int64"
      ]
     },
     "execution_count": 42,
     "metadata": {},
     "output_type": "execute_result"
    }
   ],
   "source": [
    "top_10_countries = athletes_df.Team.value_counts().sort_values(ascending=False).head(10)\n",
    "top_10_countries"
   ]
  },
  {
   "cell_type": "code",
   "execution_count": 43,
   "id": "09e15a57",
   "metadata": {},
   "outputs": [
    {
     "data": {
      "image/png": "[encoded data removed]",
      "text/plain": [
       "<Figure size 1008x504 with 1 Axes>"
      ]
     },
     "metadata": {
      "needs_background": "light"
     },
     "output_type": "display_data"
    }
   ],
   "source": [
    "plt.figure(figsize=(14,7))\n",
    "plt.title('Top 10 Countries by Number of Athletes')\n",
    "sns.barplot(x=top_10_countries.index, y=top_10_countries, palette = 'Set1');"
   ]
  },
  {
   "cell_type": "markdown",
   "id": "1efc57c5",
   "metadata": {},
   "source": [
    "- US topped the highest participation list\n",
    "- Cumulatively European athletes has particiapted the most"
   ]
  },
  {
   "cell_type": "markdown",
   "id": "eb32a36f",
   "metadata": {},
   "source": [
    "## Age-wise distribution of the athletes"
   ]
  },
  {
   "cell_type": "markdown",
   "id": "470a1955",
   "metadata": {},
   "source": [
    "Histogram represeting the distribution of ages among athletes, highlighting the number of participants in each age range."
   ]
  },
  {
   "cell_type": "code",
   "execution_count": 44,
   "id": "3147b5e1",
   "metadata": {},
   "outputs": [
    {
     "data": {
      "image/png": "[encoded data removed]",
      "text/plain": [
       "<Figure size 1008x504 with 1 Axes>"
      ]
     },
     "metadata": {
      "needs_background": "light"
     },
     "output_type": "display_data"
    }
   ],
   "source": [
    "plt.figure(figsize=(14, 7))\n",
    "plt.title(\"Age distribution of the athletes\")\n",
    "plt.xlabel('Age')\n",
    "plt.ylabel('Number of participants')\n",
    "plt.hist(athletes_df.Age, bins = np.arange(10,80,2), color='red', edgecolor = 'white');"
   ]
  },
  {
   "cell_type": "markdown",
   "id": "dfc42c59",
   "metadata": {},
   "source": [
    "- Most athletes were found in the age range of 20-30 years\n",
    "- Young athelets qualifies for Olmypic Games the most"
   ]
  },
  {
   "cell_type": "markdown",
   "id": "8d7751d2",
   "metadata": {},
   "source": [
    "## No. of sports in Summer & Winter Olympic Games"
   ]
  },
  {
   "cell_type": "markdown",
   "id": "5b958cee",
   "metadata": {},
   "source": [
    "This pie chart illustrates the distribution of unique sports across the Winter and Summer seasons."
   ]
  },
  {
   "cell_type": "code",
   "execution_count": 45,
   "id": "52ea1363",
   "metadata": {},
   "outputs": [
    {
     "data": {
      "image/png": "[encoded data removed]",
      "text/plain": [
       "<Figure size 504x504 with 1 Axes>"
      ]
     },
     "metadata": {},
     "output_type": "display_data"
    }
   ],
   "source": [
    "sports_count_per_season = athletes_df.groupby('Season')['Sport'].nunique()\n",
    "\n",
    "plt.figure(figsize=(7, 7))\n",
    "plt.pie(sports_count_per_season, \n",
    "        labels=[f'{label} - {count}' for label, count in sports_count_per_season.items()], \n",
    "        startangle=45, \n",
    "        colors=['red', 'orange'])\n",
    "plt.title('Number of Sports in Winter and Summer Games')\n",
    "plt.show()"
   ]
  },
  {
   "cell_type": "markdown",
   "id": "03cd7809",
   "metadata": {},
   "source": [
    "- More games are considered in Summer games\n",
    "- This chart helps to understand the scope of events in each season."
   ]
  },
  {
   "cell_type": "markdown",
   "id": "31c149d1",
   "metadata": {},
   "source": [
    "## Count of Male and Female participants"
   ]
  },
  {
   "cell_type": "markdown",
   "id": "5aa8fd49",
   "metadata": {},
   "source": [
    "This pie chart visualizes the distribution of athletes by gender, showing the proportion of each gender in the dataset."
   ]
  },
  {
   "cell_type": "code",
   "execution_count": 46,
   "id": "bcb2605e",
   "metadata": {},
   "outputs": [
    {
     "data": {
      "text/plain": [
       "M    195353\n",
       "F     74378\n",
       "Name: Sex, dtype: int64"
      ]
     },
     "execution_count": 46,
     "metadata": {},
     "output_type": "execute_result"
    }
   ],
   "source": [
    "gender_counts = athletes_df.Sex.value_counts()\n",
    "gender_counts"
   ]
  },
  {
   "cell_type": "code",
   "execution_count": 47,
   "id": "b7b3e1a5",
   "metadata": {},
   "outputs": [
    {
     "data": {
      "image/png": "[encoded data removed]",
      "text/plain": [
       "<Figure size 864x432 with 1 Axes>"
      ]
     },
     "metadata": {},
     "output_type": "display_data"
    }
   ],
   "source": [
    "plt.figure(figsize=(12,6))\n",
    "plt.title('Gender Distribution')\n",
    "plt.pie(gender_counts, labels=gender_counts.index, autopct='%1.1f%%', startangle=150, colors=['blue', 'magenta']);"
   ]
  },
  {
   "cell_type": "markdown",
   "id": "1c2a3bf5",
   "metadata": {},
   "source": [
    "- Male athletes are maximum from start till date.\n",
    "- From the pie chart we can analyze the trends in gender diversity in sports."
   ]
  },
  {
   "cell_type": "markdown",
   "id": "712581eb",
   "metadata": {},
   "source": [
    "## Trend of Female Athletes Over Time in Both Summer and Winter Olympics"
   ]
  },
  {
   "cell_type": "code",
   "execution_count": 63,
   "id": "e81ef7c8",
   "metadata": {},
   "outputs": [
    {
     "data": {
      "text/plain": [
       "<Figure size 3600x1800 with 0 Axes>"
      ]
     },
     "metadata": {},
     "output_type": "display_data"
    },
    {
     "data": {
      "image/png": "[encoded data removed]",
      "text/plain": [
       "<Figure size 432x288 with 1 Axes>"
      ]
     },
     "metadata": {
      "needs_background": "light"
     },
     "output_type": "display_data"
    }
   ],
   "source": [
    "womenOlympics = athletes_df[athletes_df.Sex == 'F']\n",
    "\n",
    "part = womenOlympics.groupby(['Year', 'Season'])['Sex'].count().unstack(fill_value=0)\n",
    "\n",
    "plt.figure(figsize=(50, 25))\n",
    "part.plot(kind='line', marker='o', linestyle='-', color=['purple', 'orange'])\n",
    "plt.title('Trend of Female Athletes Over Time in Both Summer and Winter Olympics')\n",
    "plt.xlabel('Year')\n",
    "plt.ylabel('Number of Female Athletes')\n",
    "plt.grid(True, linestyle='--', alpha=0.5)\n",
    "plt.legend(['Summer Olympics', 'Winter Olympics'])\n",
    "plt.show()"
   ]
  }
 ],
 "metadata": {
  "kernelspec": {
   "display_name": "Python 3 (ipykernel)",
   "language": "python",
   "name": "python3"
  },
  "language_info": {
   "codemirror_mode": {
    "name": "ipython",
    "version": 3
   },
   "file_extension": ".py",
   "mimetype": "text/x-python",
   "name": "python",
   "nbconvert_exporter": "python",
   "pygments_lexer": "ipython3",
   "version": "3.9.12"
  }
 },
 "nbformat": 4,
 "nbformat_minor": 5
}
